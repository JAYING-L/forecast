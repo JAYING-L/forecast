{
 "cells": [
  {
   "cell_type": "markdown",
   "id": "e603e76e",
   "metadata": {},
   "source": [
    "# 1.导入包及数据"
   ]
  },
  {
   "cell_type": "code",
   "execution_count": null,
   "id": "fd57ec86",
   "metadata": {},
   "outputs": [],
   "source": [
    "import numpy as np\n",
    "import matplotlib.pyplot as plt  \n",
    "import pandas as pd\n",
    "from sklearn import preprocessing\n",
    "from vmdpy import VMD  \n",
    "import akshare as ak #大豆数据集\n",
    "from scipy.fftpack import fft ##傅里叶级数\n",
    "import pkuseg   #分词包\n",
    "import re\n",
    "from snownlp import SnowNLP #中文情感分析包\n",
    "\n",
    "from sklearn.feature_extraction.text import CountVectorizer #sklearn的统计词特征包\n",
    "from sklearn.feature_extraction.text import TfidfTransformer #sklearn的TF-IDF包\n",
    "\n",
    "\n",
    "\n",
    "\n",
    "\n",
    "#下载数据\n",
    "Data=pd.read_csv(\"./data.csv\")\n",
    "Data.head()\n"
   ]
  },
  {
   "cell_type": "code",
   "execution_count": null,
   "id": "505c2c8e",
   "metadata": {
    "scrolled": true
   },
   "outputs": [],
   "source": [
    "#数据处理\n",
    "pd.to_datetime(Data.date)\n",
    "Data.drop(columns={'Unnamed: 0'},inplace=True)\n",
    "Data.head()"
   ]
  },
  {
   "cell_type": "markdown",
   "id": "2383f20b",
   "metadata": {},
   "source": []
  },
  {
   "cell_type": "markdown",
   "id": "b2b31da6",
   "metadata": {},
   "source": [
    "#### 标准化数据"
   ]
  },
  {
   "cell_type": "code",
   "execution_count": null,
   "id": "7603cf61",
   "metadata": {},
   "outputs": [],
   "source": [
    "minmax = preprocessing.MinMaxScaler()\n",
    "data_minmax = minmax.fit_transform(Data[['return','volatility']])\n",
    "data_minmax_list = data_minmax.tolist()\n",
    "data_minmax_list"
   ]
  },
  {
   "cell_type": "code",
   "execution_count": null,
   "id": "4a445d50",
   "metadata": {},
   "outputs": [],
   "source": [
    "#建空列表把循环出来每次嵌套列表的数装在新的列表中\n",
    "empt_return=[]\n",
    "empt_volatility=[]\n",
    "for i in range(len(data_minmax_list)):\n",
    "    empt_return.append(data_minmax_list[i][0])\n",
    "    empt_volatility.append(data_minmax_list[i][1])\n",
    "Data['return']=empt_return\n",
    "Data['volatility']=empt_volatility\n",
    "Data "
   ]
  },
  {
   "cell_type": "markdown",
   "id": "1407fc1a",
   "metadata": {},
   "source": [
    "# 2.VMD分解 Return&Volatility "
   ]
  },
  {
   "cell_type": "markdown",
   "id": "0b63298e",
   "metadata": {},
   "source": [
    "### vmd参数设置及绘制分解模态图"
   ]
  },
  {
   "cell_type": "code",
   "execution_count": null,
   "id": "69204bc1",
   "metadata": {},
   "outputs": [],
   "source": [
    "#1.导入文件，可以指定列也可以，就是usecols\n",
    "filename= 'data.csv'\n",
    "f = pd.read_csv(filename,usecols=[9,10])\n",
    "\n",
    "#vmd包参数设置并执行VMD\n",
    "alpha = 5000       #宽带限制，一般为数据点的1.5-2倍  \n",
    "tau = 0.           # 噪声限制 (no strict fidelity enforcement)  \n",
    "K = 11             # 分解模态个数  \n",
    "DC = 0             # 合成信号若无常量则为0；若含常量，则其取值为 1；  \n",
    "init = 1           # 初始化ω值,当初始化为1时,均匀分布产生的随机数； \n",
    "tol = 1e-7         # 控制误差大小常量，决定精度与迭代次数\n",
    "\n",
    "u, u_hat, omega = VMD(f['return'], alpha, tau, K, DC, init, tol)  \n",
    "u1,u1_hat,omega1 = VMD(f['volatility'], alpha, tau, K, DC, init, tol)  \n",
    "#绘制分解模态图\n",
    "plt.figure(figsize=(10,8))\n",
    "plt.subplot(2,1,1)\n",
    "plt.plot(u.T)\n",
    "plt.title('Decomposed modes of return')\n",
    "plt.subplot(2,1,2)\n",
    "plt.plot(u1.T)\n",
    "plt.title('Decomposed modes of volatility')\n"
   ]
  },
  {
   "cell_type": "markdown",
   "id": "91e6562b",
   "metadata": {},
   "source": [
    "### IMF of return"
   ]
  },
  {
   "cell_type": "code",
   "execution_count": null,
   "id": "ff6a9d01",
   "metadata": {},
   "outputs": [],
   "source": [
    "#未分解前的图\n",
    "fig_return = plt.figure()\n",
    "plt.plot(f['return'])\n",
    "fig_return.suptitle('Original input signal and its components')\n",
    "\n",
    "#循环每个分解模态的\n",
    "for i in range(K):\n",
    "    plt.figure(figsize=(5,5), dpi=100)\n",
    "    plt.subplot(K,1,i+1)\n",
    "    plt.plot(u[i,:], linewidth=0.2, c='r')\n",
    "    plt.ylabel('IMF{}'.format(i+1))\n",
    "    \n",
    "    #每个模态的中心频率\n",
    "for i in range(K):\n",
    "    plt.figure(figsize=(5,5), dpi=100)\n",
    "    plt.subplot(K,1,i+1)\n",
    "    plt.plot(abs(fft(u[i,:])))\n",
    "    plt.ylabel('IMF{}'.format(i+1))\n",
    "\n"
   ]
  },
  {
   "cell_type": "markdown",
   "id": "c4b2353d",
   "metadata": {},
   "source": [
    "### IMF of volatility"
   ]
  },
  {
   "cell_type": "code",
   "execution_count": null,
   "id": "403b35ac",
   "metadata": {
    "scrolled": true
   },
   "outputs": [],
   "source": [
    "#未分解前的图\n",
    "fig_volatility = plt.figure()\n",
    "plt.plot(f['volatility'])\n",
    "fig_volatility.suptitle('Original input signal and its components OF volatility')\n",
    "\n",
    "#循环每个分解模态的\n",
    "for i in range(K):\n",
    "    plt.figure(figsize=(5,5), dpi=100)\n",
    "    plt.subplot(K,1,i+1)\n",
    "    plt.plot(u1[i,:], linewidth=0.2, c='r')\n",
    "    plt.ylabel('IMF{}'.format(i+1))\n",
    "    \n",
    "    #每个模态的中心频率\n",
    "for i in range(K):\n",
    "    plt.figure(figsize=(5,5), dpi=100)\n",
    "    plt.subplot(K,1,i+1)\n",
    "    plt.plot(abs(fft(u1[i,:])))\n",
    "    plt.ylabel('IMF{}'.format(i+1))"
   ]
  },
  {
   "cell_type": "markdown",
   "id": "9429d24a",
   "metadata": {},
   "source": [
    "# 3.文本处理"
   ]
  },
  {
   "cell_type": "code",
   "execution_count": null,
   "id": "93b3d2f0",
   "metadata": {
    "scrolled": true
   },
   "outputs": [],
   "source": [
    "filepath1='./text.csv'\n",
    "text=pd.read_csv(filepath1)\n",
    "pd.to_datetime(text.date)"
   ]
  },
  {
   "cell_type": "markdown",
   "id": "8ad58ce5",
   "metadata": {},
   "source": [
    "### (1).文本预处理"
   ]
  },
  {
   "cell_type": "code",
   "execution_count": null,
   "id": "865eca8c",
   "metadata": {},
   "outputs": [],
   "source": [
    "titles=text.title\n",
    "titles1=[]\n",
    "\n",
    "for i in range(len(titles)):\n",
    "    textgo = re.sub('[^\\u4e00-\\u9fa5_a-zA-Z0-9]','',str(titles[i]))\n",
    "    titles1.append(textgo) \n"
   ]
  },
  {
   "cell_type": "code",
   "execution_count": null,
   "id": "12d94cf6",
   "metadata": {},
   "outputs": [],
   "source": [
    "len(titles1)"
   ]
  },
  {
   "cell_type": "markdown",
   "id": "e998254f",
   "metadata": {},
   "source": [
    "###  (2).文本分词"
   ]
  },
  {
   "cell_type": "code",
   "execution_count": null,
   "id": "75311c94",
   "metadata": {},
   "outputs": [],
   "source": [
    "type(titles1)"
   ]
  },
  {
   "cell_type": "code",
   "execution_count": null,
   "id": "ee013741",
   "metadata": {},
   "outputs": [],
   "source": [
    "seg = pkuseg.pkuseg() # 以默认配置加载模型"
   ]
  },
  {
   "cell_type": "code",
   "execution_count": null,
   "id": "d3ea9816",
   "metadata": {},
   "outputs": [],
   "source": [
    "textcut=[]\n",
    "for j in titles1:  \n",
    "    textfo=seg.cut( j )  # 进行分词\n",
    "    textcut.append(textfo)\n",
    "    \n",
    "text_cut=pd.Series(textcut)##list换series，然后放入表中"
   ]
  },
  {
   "cell_type": "code",
   "execution_count": null,
   "id": "34003c16",
   "metadata": {},
   "outputs": [],
   "source": [
    "text.insert(loc=1,column='text_cut',value=text_cut)"
   ]
  },
  {
   "cell_type": "code",
   "execution_count": null,
   "id": "ef47c6f7",
   "metadata": {},
   "outputs": [],
   "source": [
    "text"
   ]
  },
  {
   "cell_type": "markdown",
   "id": "17acb6b4",
   "metadata": {},
   "source": [
    "###  (3).去除停用词（采用中文停用词表）"
   ]
  },
  {
   "cell_type": "code",
   "execution_count": null,
   "id": "1519d788",
   "metadata": {
    "scrolled": true
   },
   "outputs": [],
   "source": [
    "def stopwordslist(filepath):   # 定义函数创建停用词列表\n",
    "    stopword = [line.strip() for line in open(filepath,encoding='utf-8').readlines()]    #以行的形式读取停用词表，同时转换为列表\n",
    "    return stopword\n",
    "\n",
    "filepath='./cn_stopwords.txt'\n",
    "stopwords = stopwordslist(filepath)"
   ]
  },
  {
   "cell_type": "code",
   "execution_count": null,
   "id": "5017c281",
   "metadata": {},
   "outputs": [],
   "source": [
    "text_cut[0][1]"
   ]
  },
  {
   "cell_type": "code",
   "execution_count": null,
   "id": "975d81aa",
   "metadata": {},
   "outputs": [],
   "source": [
    "type(text_cut)"
   ]
  },
  {
   "cell_type": "code",
   "execution_count": null,
   "id": "67c672fc",
   "metadata": {},
   "outputs": [],
   "source": [
    "lastsentences=[]\n",
    "lastsentences_str=[]##增加列表内是字符串的一项，方便进行向量化处理\n",
    "for i in range(len(text_cut)):     #for循环遍历分词后的每个词语\n",
    "    lastsentence=[]\n",
    "    for word in text_cut[i]:\n",
    "        if word not in stopwords:     #判断分词后的词语是否在停用词表内\n",
    "            lastsentence.append(word)\n",
    "            lastsentence_str=' '.join(lastsentence)\n",
    "    lastsentences.append(lastsentence)\n",
    "    lastsentences_str.append(lastsentence_str)\n",
    "text_cut_stopwords=pd.Series(lastsentences)\n",
    "text_cut_stopwords_str=pd.Series(lastsentences_str)\n",
    "text.insert(loc=2,column='text_cut_stopwords',value=text_cut_stopwords)\n",
    "text.insert(loc=2,column='text_cut_stopwords_str',value=text_cut_stopwords_str)"
   ]
  },
  {
   "cell_type": "code",
   "execution_count": null,
   "id": "e9351669",
   "metadata": {},
   "outputs": [],
   "source": [
    "lastsentences_str"
   ]
  },
  {
   "cell_type": "code",
   "execution_count": null,
   "id": "fcc338ed",
   "metadata": {},
   "outputs": [],
   "source": [
    "text.text_cut_stopwords[0]"
   ]
  },
  {
   "cell_type": "code",
   "execution_count": null,
   "id": "de9eb25d",
   "metadata": {
    "scrolled": true
   },
   "outputs": [],
   "source": [
    "text"
   ]
  },
  {
   "cell_type": "markdown",
   "id": "57769a3c",
   "metadata": {},
   "source": [
    "###  (4).向量转换（BoW & TF-IDF）"
   ]
  },
  {
   "cell_type": "code",
   "execution_count": null,
   "id": "e262e79b",
   "metadata": {},
   "outputs": [],
   "source": [
    "#CountVectorizer和TfidfTransformer默认学习list里的str（在str中以空格为分断），所以对象应该换成list(‘str1’,‘str2’,...)\n",
    "vectorizer = CountVectorizer(min_df=1,max_df=0.8) ##创建单词表时，忽略占比超过百分之五十的词 以及 出现数少于2的词\n",
    "transformer = TfidfTransformer() \n",
    "X = vectorizer.fit_transform(lastsentences_str)#学习词汇，返回文档术语与矩阵\n",
    "feature_name = vectorizer.get_feature_names()#显示特征名\n",
    "tfidf = transformer.fit_transform(X)  #把已经生成的文档矩阵换成TF-IDF矩阵\n",
    "tfidf.toarray()"
   ]
  },
  {
   "cell_type": "markdown",
   "id": "2c3416ba",
   "metadata": {},
   "source": [
    "### (5).情感分析"
   ]
  },
  {
   "cell_type": "code",
   "execution_count": null,
   "id": "40165a45",
   "metadata": {},
   "outputs": [],
   "source": [
    "sentiment=[]\n",
    "for i in range(len(text_cut_stopwords_str)):\n",
    "    sentiment.append(SnowNLP(text_cut_stopwords_str[i]).sentiments)\n",
    "text.insert(loc=5,column='sentiment',value=sentiment)\n",
    "text"
   ]
  },
  {
   "cell_type": "code",
   "execution_count": null,
   "outputs": [],
   "source": [
    "text['date']=pd.to_datetime(text['date'])\n",
    "\n",
    "\n"
   ],
   "metadata": {
    "collapsed": false,
    "pycharm": {
     "name": "#%%\n"
    }
   }
  },
  {
   "cell_type": "code",
   "execution_count": null,
   "outputs": [],
   "source": [
    "text['date']"
   ],
   "metadata": {
    "collapsed": false,
    "pycharm": {
     "name": "#%%\n"
    }
   }
  },
  {
   "cell_type": "code",
   "execution_count": null,
   "outputs": [],
   "source": [
    "type(senti_all_date.index)"
   ],
   "metadata": {
    "collapsed": false,
    "pycharm": {
     "name": "#%%\n"
    }
   }
  },
  {
   "cell_type": "code",
   "execution_count": null,
   "outputs": [],
   "source": [
    "type(text['date'])"
   ],
   "metadata": {
    "collapsed": false,
    "pycharm": {
     "name": "#%%\n"
    }
   }
  },
  {
   "cell_type": "code",
   "execution_count": null,
   "outputs": [],
   "source": [],
   "metadata": {
    "collapsed": false,
    "pycharm": {
     "name": "#%%\n"
    }
   }
  },
  {
   "cell_type": "code",
   "execution_count": null,
   "id": "19e5b705",
   "metadata": {},
   "outputs": [],
   "source": [
    "#创建对应日期数组\n",
    "senti_date=pd.date_range('20100104','20190701')"
   ]
  },
  {
   "cell_type": "code",
   "execution_count": null,
   "id": "5c4920fe",
   "metadata": {},
   "outputs": [],
   "source": [
    "senti_all_date=pd.DataFrame(index=senti_date)"
   ]
  },
  {
   "cell_type": "code",
   "execution_count": null,
   "outputs": [],
   "source": [
    "senti_all_date\n",
    "\n",
    "\n",
    "\n"
   ],
   "metadata": {
    "collapsed": false,
    "pycharm": {
     "name": "#%%\n"
    }
   }
  },
  {
   "cell_type": "code",
   "execution_count": null,
   "outputs": [],
   "source": [
    "#\n"
   ],
   "metadata": {
    "collapsed": false,
    "pycharm": {
     "name": "#%%\n"
    }
   }
  },
  {
   "cell_type": "code",
   "execution_count": null,
   "outputs": [],
   "source": [
    "senti_all_date"
   ],
   "metadata": {
    "collapsed": false,
    "pycharm": {
     "name": "#%%\n"
    }
   }
  },
  {
   "cell_type": "code",
   "execution_count": null,
   "outputs": [],
   "source": [
    "dic=\n"
   ],
   "metadata": {
    "collapsed": false,
    "pycharm": {
     "name": "#%%\n"
    }
   }
  },
  {
   "cell_type": "code",
   "execution_count": null,
   "outputs": [],
   "source": [
    "\n",
    "dict(zip(text.date,text.sentiment))\n"
   ],
   "metadata": {
    "collapsed": false,
    "pycharm": {
     "name": "#%%\n"
    }
   }
  },
  {
   "cell_type": "code",
   "execution_count": 139,
   "outputs": [
    {
     "data": {
      "text/plain": "2011-04-21    30\n2012-05-16    30\n2013-06-26    29\n2012-05-10    28\n2012-08-17    27\n              ..\n2011-06-22     1\n2013-06-01     1\n2011-01-04     1\n2011-07-05     1\n2012-05-03     1\nName: date, Length: 1183, dtype: int64"
     },
     "execution_count": 139,
     "metadata": {},
     "output_type": "execute_result"
    }
   ],
   "source": [
    "text.date.value_counts()"
   ],
   "metadata": {
    "collapsed": false,
    "pycharm": {
     "name": "#%%\n"
    }
   }
  },
  {
   "cell_type": "code",
   "execution_count": 140,
   "outputs": [
    {
     "data": {
      "text/plain": "{Timestamp('2019-07-01 00:00:00'): 0.9883797770464233,\n Timestamp('2019-06-06 00:00:00'): 0.889135768466459,\n Timestamp('2019-05-13 00:00:00'): 0.9493189389916733,\n Timestamp('2019-04-25 00:00:00'): 0.4224865760847407,\n Timestamp('2019-04-08 00:00:00'): 0.8927261485639549,\n Timestamp('2019-02-12 00:00:00'): 0.9736327338488427,\n Timestamp('2019-01-18 00:00:00'): 0.8982244603344833,\n Timestamp('2019-01-03 00:00:00'): 0.9716483021451002,\n Timestamp('2018-12-28 00:00:00'): 0.9824485204727833,\n Timestamp('2018-12-25 00:00:00'): 0.9606021916735854,\n Timestamp('2018-11-26 00:00:00'): 0.4575371139919314,\n Timestamp('2018-11-09 00:00:00'): 0.0004323854623757839,\n Timestamp('2018-10-18 00:00:00'): 0.9383730874032127,\n Timestamp('2018-09-25 00:00:00'): 0.8437689387190664,\n Timestamp('2018-09-19 00:00:00'): 0.8437689387190664,\n Timestamp('2018-09-18 00:00:00'): 0.6675455468393046,\n Timestamp('2018-09-17 00:00:00'): 0.8966494047583785,\n Timestamp('2018-09-07 00:00:00'): 0.9953579535471005,\n Timestamp('2018-09-04 00:00:00'): 0.9076710401542802,\n Timestamp('2018-08-06 00:00:00'): 0.9855217765440049,\n Timestamp('2018-08-03 00:00:00'): 0.035491951583782044,\n Timestamp('2018-07-16 00:00:00'): 0.995935088915294,\n Timestamp('2018-07-13 00:00:00'): 0.7197833059140968,\n Timestamp('2018-05-05 00:00:00'): 0.5840529732475491,\n Timestamp('2018-04-19 00:00:00'): 0.9848462307680318,\n Timestamp('2018-04-17 00:00:00'): 0.6316806351389934,\n Timestamp('2018-04-10 00:00:00'): 0.40831250615323733,\n Timestamp('2018-04-02 00:00:00'): 0.3168216497700813,\n Timestamp('2018-03-19 00:00:00'): 0.16286939492635255,\n Timestamp('2018-03-08 00:00:00'): 0.1720966472277623,\n Timestamp('2018-03-01 00:00:00'): 0.2366126874494714,\n Timestamp('2018-02-28 00:00:00'): 0.7801492967402062,\n Timestamp('2018-01-02 00:00:00'): 0.9889611223349093,\n Timestamp('2017-12-27 00:00:00'): 0.24809378859972386,\n Timestamp('2017-12-26 00:00:00'): 0.8893834353224611,\n Timestamp('2017-11-08 00:00:00'): 0.01190231429248767,\n Timestamp('2017-10-13 00:00:00'): 0.468813426640584,\n Timestamp('2017-09-28 00:00:00'): 0.2104194504210326,\n Timestamp('2017-09-26 00:00:00'): 0.699730354322496,\n Timestamp('2017-04-24 00:00:00'): 0.7372003797908437,\n Timestamp('2017-04-21 00:00:00'): 0.9889262054638427,\n Timestamp('2017-04-20 00:00:00'): 0.18365910629157756,\n Timestamp('2017-04-18 00:00:00'): 0.9088559239377225,\n Timestamp('2017-04-17 00:00:00'): 0.9901978172293501,\n Timestamp('2017-04-10 00:00:00'): 0.9991305351660651,\n Timestamp('2017-04-06 00:00:00'): 0.23493762106216054,\n Timestamp('2017-03-31 00:00:00'): 0.995949287517089,\n Timestamp('2017-03-30 00:00:00'): 0.6131173991079044,\n Timestamp('2017-03-29 00:00:00'): 0.6291663454150975,\n Timestamp('2017-03-28 00:00:00'): 0.09454143238165935,\n Timestamp('2017-03-27 00:00:00'): 0.9764201180847335,\n Timestamp('2017-03-24 00:00:00'): 0.695399629251983,\n Timestamp('2017-03-20 00:00:00'): 0.311378442427273,\n Timestamp('2017-03-15 00:00:00'): 0.13420950282673594,\n Timestamp('2017-03-14 00:00:00'): 0.2091131714264688,\n Timestamp('2017-03-10 00:00:00'): 0.8330191938699234,\n Timestamp('2017-03-07 00:00:00'): 0.970957879257341,\n Timestamp('2017-03-06 00:00:00'): 0.281696958731136,\n Timestamp('2017-02-22 00:00:00'): 0.8289643362802133,\n Timestamp('2017-02-20 00:00:00'): 0.7821476227338464,\n Timestamp('2017-02-14 00:00:00'): 0.36346948790546574,\n Timestamp('2017-02-07 00:00:00'): 0.1992042969768668,\n Timestamp('2017-01-03 00:00:00'): 0.8863361710614219,\n Timestamp('2016-12-20 00:00:00'): 0.9352134296381366,\n Timestamp('2016-12-19 00:00:00'): 0.378241098661797,\n Timestamp('2016-12-06 00:00:00'): 0.013067088595851817,\n Timestamp('2016-12-05 00:00:00'): 0.332524381921359,\n Timestamp('2016-11-10 00:00:00'): 0.9450367777303057,\n Timestamp('2016-10-25 00:00:00'): 0.9049087116485443,\n Timestamp('2016-10-21 00:00:00'): 0.7676980791553377,\n Timestamp('2016-10-11 00:00:00'): 0.012770653063536086,\n Timestamp('2016-09-20 00:00:00'): 0.8551005925950902,\n Timestamp('2016-09-13 00:00:00'): 0.006192364396385375,\n Timestamp('2016-09-09 00:00:00'): 0.47322398598890947,\n Timestamp('2016-09-06 00:00:00'): 0.12464190072629877,\n Timestamp('2016-09-04 00:00:00'): 0.7450368902056574,\n Timestamp('2016-08-22 00:00:00'): 0.8893482741312511,\n Timestamp('2016-08-17 00:00:00'): 0.008004503601864443,\n Timestamp('2016-08-15 00:00:00'): 0.4285735754120896,\n Timestamp('2016-08-11 00:00:00'): 0.6710625814776922,\n Timestamp('2016-08-10 00:00:00'): 0.002369794614337506,\n Timestamp('2016-08-05 00:00:00'): 0.7811843235152012,\n Timestamp('2016-07-27 00:00:00'): 0.3471088625008726,\n Timestamp('2016-07-25 00:00:00'): 0.3819504487863502,\n Timestamp('2016-07-22 00:00:00'): 0.9162562339792802,\n Timestamp('2016-07-20 00:00:00'): 0.9283488493147429,\n Timestamp('2016-07-19 00:00:00'): 0.8833197855720323,\n Timestamp('2016-07-18 00:00:00'): 0.697275688464348,\n Timestamp('2016-07-15 00:00:00'): 0.9995087271476611,\n Timestamp('2016-07-13 00:00:00'): 0.9824007326601389,\n Timestamp('2016-07-08 00:00:00'): 0.8739604799478761,\n Timestamp('2016-06-20 00:00:00'): 0.9875866504919607,\n Timestamp('2016-06-15 00:00:00'): 0.4039664915392607,\n Timestamp('2016-06-12 00:00:00'): 0.6664588059193447,\n Timestamp('2016-06-03 00:00:00'): 0.6664588059193447,\n Timestamp('2016-05-31 00:00:00'): 0.3808074942863596,\n Timestamp('2016-05-23 00:00:00'): 0.912586748681804,\n Timestamp('2016-05-20 00:00:00'): 0.8898865339431438,\n Timestamp('2016-05-16 00:00:00'): 0.9956961145273724,\n Timestamp('2016-05-06 00:00:00'): 0.6747426817413058,\n Timestamp('2016-05-04 00:00:00'): 0.7371825504004894,\n Timestamp('2016-04-29 00:00:00'): 0.959789249440373,\n Timestamp('2016-04-27 00:00:00'): 0.8785888313594503,\n Timestamp('2016-04-21 00:00:00'): 0.9897245377865956,\n Timestamp('2016-04-20 00:00:00'): 0.7572587347774722,\n Timestamp('2016-04-19 00:00:00'): 0.9858421294379061,\n Timestamp('2016-04-18 00:00:00'): 0.9995977207579332,\n Timestamp('2016-04-16 00:00:00'): 0.17555691985823196,\n Timestamp('2016-04-14 00:00:00'): 0.17837325308349494,\n Timestamp('2016-04-13 00:00:00'): 0.40506392446550843,\n Timestamp('2016-04-12 00:00:00'): 0.4863351818414893,\n Timestamp('2016-04-08 00:00:00'): 0.1983582171485051,\n Timestamp('2016-04-07 00:00:00'): 0.39205145706571154,\n Timestamp('2016-04-04 00:00:00'): 0.45453797925521977,\n Timestamp('2016-02-03 00:00:00'): 0.9896336968705131,\n Timestamp('2016-01-26 00:00:00'): 0.9325227749412549,\n Timestamp('2016-01-18 00:00:00'): 0.5046878861418889,\n Timestamp('2016-01-14 00:00:00'): 0.9568322976917109,\n Timestamp('2016-01-13 00:00:00'): 0.10914318511905818,\n Timestamp('2016-01-12 00:00:00'): 0.6840644810831537,\n Timestamp('2016-01-11 00:00:00'): 0.997391112559464,\n Timestamp('2016-01-07 00:00:00'): 0.9524183108378979,\n Timestamp('2016-01-06 00:00:00'): 0.9479598673583303,\n Timestamp('2015-12-24 00:00:00'): 0.2945043104441526,\n Timestamp('2015-12-23 00:00:00'): 0.9248848990078551,\n Timestamp('2015-12-02 00:00:00'): 0.4259245045959701,\n Timestamp('2015-11-24 00:00:00'): 0.988482848952338,\n Timestamp('2015-11-16 00:00:00'): 0.3862737120569554,\n Timestamp('2015-11-12 00:00:00'): 0.23014684772136662,\n Timestamp('2015-11-10 00:00:00'): 0.9457157592151434,\n Timestamp('2015-11-09 00:00:00'): 0.8287655397912803,\n Timestamp('2015-10-28 00:00:00'): 0.7279252351823221,\n Timestamp('2015-10-19 00:00:00'): 0.5898679045629424,\n Timestamp('2015-09-30 00:00:00'): 0.929701555971293,\n Timestamp('2015-09-23 00:00:00'): 0.88989428162923,\n Timestamp('2015-09-22 00:00:00'): 0.9838975799648458,\n Timestamp('2015-09-18 00:00:00'): 0.9187751604253505,\n Timestamp('2015-09-11 00:00:00'): 0.032289609820319476,\n Timestamp('2015-09-10 00:00:00'): 0.04576591738435265,\n Timestamp('2015-09-09 00:00:00'): 0.040199810362760435,\n Timestamp('2015-09-08 00:00:00'): 0.06824319595515316,\n Timestamp('2015-09-07 00:00:00'): 0.983657027066142,\n Timestamp('2015-09-06 00:00:00'): 0.05334314140624996,\n Timestamp('2015-09-03 00:00:00'): 0.041713439660819085,\n Timestamp('2015-09-01 00:00:00'): 0.12162090650425417,\n Timestamp('2015-08-31 00:00:00'): 0.16047738660756128,\n Timestamp('2015-08-29 00:00:00'): 0.09207970041051594,\n Timestamp('2015-08-28 00:00:00'): 0.08466270986691349,\n Timestamp('2015-08-27 00:00:00'): 0.9019248521931285,\n Timestamp('2015-08-26 00:00:00'): 0.0809575372297282,\n Timestamp('2015-08-25 00:00:00'): 0.1031724837116742,\n Timestamp('2015-08-24 00:00:00'): 0.10256585623511616,\n Timestamp('2015-08-21 00:00:00'): 0.06318195557925821,\n Timestamp('2015-08-20 00:00:00'): 0.0843119196665797,\n Timestamp('2015-08-19 00:00:00'): 0.07310460096251048,\n Timestamp('2015-08-18 00:00:00'): 0.1550619801914782,\n Timestamp('2015-08-17 00:00:00'): 0.10081102582606827,\n Timestamp('2015-08-14 00:00:00'): 0.09191077801959557,\n Timestamp('2015-08-13 00:00:00'): 0.0960977510174601,\n Timestamp('2015-08-12 00:00:00'): 0.0703949356002419,\n Timestamp('2015-08-11 00:00:00'): 0.055131807869662985,\n Timestamp('2015-08-10 00:00:00'): 0.07737917790640192,\n Timestamp('2015-08-07 00:00:00'): 0.11274708202443817,\n Timestamp('2015-08-06 00:00:00'): 0.11573832809791285,\n Timestamp('2015-08-04 00:00:00'): 0.08975782189557346,\n Timestamp('2015-07-31 00:00:00'): 0.15942159538350198,\n Timestamp('2015-07-30 00:00:00'): 0.97918952662409,\n Timestamp('2015-07-29 00:00:00'): 0.07292346358287904,\n Timestamp('2015-07-28 00:00:00'): 0.09142489734237413,\n Timestamp('2015-07-24 00:00:00'): 0.101844848122142,\n Timestamp('2015-07-23 00:00:00'): 0.09848951195573297,\n Timestamp('2015-07-22 00:00:00'): 0.06271845625491268,\n Timestamp('2015-07-21 00:00:00'): 0.0837072625087999,\n Timestamp('2015-07-20 00:00:00'): 0.9723042294934564,\n Timestamp('2015-07-17 00:00:00'): 0.10010097769239579,\n Timestamp('2015-07-16 00:00:00'): 0.05688670598563794,\n Timestamp('2015-07-15 00:00:00'): 0.4307146273462443,\n Timestamp('2015-07-14 00:00:00'): 0.09125705546274765,\n Timestamp('2015-07-10 00:00:00'): 0.0768200689588775,\n Timestamp('2015-07-09 00:00:00'): 0.06774525260453235,\n Timestamp('2015-07-08 00:00:00'): 0.11274708202443817,\n Timestamp('2015-07-07 00:00:00'): 0.11196343202648396,\n Timestamp('2015-07-06 00:00:00'): 0.08905891167518531,\n Timestamp('2015-07-03 00:00:00'): 0.08911790961528276,\n Timestamp('2015-07-02 00:00:00'): 0.07022016092134842,\n Timestamp('2015-07-01 00:00:00'): 0.06914507708427842,\n Timestamp('2015-06-30 00:00:00'): 0.07453902073313035,\n Timestamp('2015-06-29 00:00:00'): 0.0574883900094868,\n Timestamp('2015-06-26 00:00:00'): 0.06347056439277021,\n Timestamp('2015-06-25 00:00:00'): 0.0813115835276842,\n Timestamp('2015-06-24 00:00:00'): 0.08082190880470419,\n Timestamp('2015-06-23 00:00:00'): 0.07809895923566879,\n Timestamp('2015-06-19 00:00:00'): 0.05720828883331508,\n Timestamp('2015-06-18 00:00:00'): 0.12372316510729975,\n Timestamp('2015-06-17 00:00:00'): 0.07940618503253716,\n Timestamp('2015-06-16 00:00:00'): 0.044682394719631535,\n Timestamp('2015-06-15 00:00:00'): 0.06684932011548195,\n Timestamp('2015-06-12 00:00:00'): 0.05505283387270721,\n Timestamp('2015-06-11 00:00:00'): 0.042962465203142175,\n Timestamp('2015-06-10 00:00:00'): 0.8054684327811017,\n Timestamp('2015-06-09 00:00:00'): 0.18096596900470385,\n Timestamp('2015-06-08 00:00:00'): 0.9981782469322918,\n Timestamp('2015-06-05 00:00:00'): 0.6935752811327974,\n Timestamp('2015-06-04 00:00:00'): 0.9991325963741784,\n Timestamp('2015-06-03 00:00:00'): 0.9290398063749252,\n Timestamp('2015-06-02 00:00:00'): 0.055323126839059156,\n Timestamp('2015-06-01 00:00:00'): 0.15374075363167428,\n Timestamp('2015-05-29 00:00:00'): 0.18857563343221095,\n Timestamp('2015-05-28 00:00:00'): 0.9916047748975836,\n Timestamp('2015-05-27 00:00:00'): 0.16795401767379092,\n Timestamp('2015-05-26 00:00:00'): 0.9919283142890705,\n Timestamp('2015-05-25 00:00:00'): 0.2559264235150075,\n Timestamp('2015-05-22 00:00:00'): 0.13299239331130763,\n Timestamp('2015-05-21 00:00:00'): 0.1742296488121582,\n Timestamp('2015-05-20 00:00:00'): 0.953306853399328,\n Timestamp('2015-05-19 00:00:00'): 0.9982375748569757,\n Timestamp('2015-05-18 00:00:00'): 0.8932196299667916,\n Timestamp('2015-05-15 00:00:00'): 0.08688914305135353,\n Timestamp('2015-05-14 00:00:00'): 0.6661202106855332,\n Timestamp('2015-05-13 00:00:00'): 0.9691257659048901,\n Timestamp('2015-05-12 00:00:00'): 0.9990979830665799,\n Timestamp('2015-05-11 00:00:00'): 0.810603388661777,\n Timestamp('2015-05-08 00:00:00'): 0.990417589448927,\n Timestamp('2015-05-07 00:00:00'): 0.18420520673074747,\n Timestamp('2015-05-06 00:00:00'): 0.9461321251664517,\n Timestamp('2015-05-05 00:00:00'): 0.07308334565387853,\n Timestamp('2015-05-04 00:00:00'): 0.9692508081878927,\n Timestamp('2015-05-01 00:00:00'): 0.15270897948463225,\n Timestamp('2015-04-30 00:00:00'): 0.9979422327778834,\n Timestamp('2015-04-29 00:00:00'): 0.977753581532155,\n Timestamp('2015-04-28 00:00:00'): 0.7515810292961128,\n Timestamp('2015-04-27 00:00:00'): 0.1168631925789122,\n Timestamp('2015-04-24 00:00:00'): 0.9274499731602964,\n Timestamp('2015-04-23 00:00:00'): 0.9918764980421584,\n Timestamp('2015-04-22 00:00:00'): 0.07661792077436125,\n Timestamp('2015-04-21 00:00:00'): 0.9997253468500226,\n Timestamp('2015-04-20 00:00:00'): 0.9856621397409455,\n Timestamp('2015-04-17 00:00:00'): 0.3920237246992031,\n Timestamp('2015-04-16 00:00:00'): 0.9977213508180768,\n Timestamp('2015-04-15 00:00:00'): 0.9933783363039149,\n Timestamp('2015-04-14 00:00:00'): 0.9633512915158149,\n Timestamp('2015-04-13 00:00:00'): 0.9868674465915296,\n Timestamp('2015-04-09 00:00:00'): 0.9613541260691044,\n Timestamp('2015-04-08 00:00:00'): 0.19305663203171775,\n Timestamp('2015-04-07 00:00:00'): 0.156486064963828,\n Timestamp('2015-04-02 00:00:00'): 0.7809743233309596,\n Timestamp('2015-04-01 00:00:00'): 0.08997949825248042,\n Timestamp('2015-03-31 00:00:00'): 0.9942525248201932,\n Timestamp('2015-03-30 00:00:00'): 0.820904020788355,\n Timestamp('2015-03-27 00:00:00'): 0.9676174204692115,\n Timestamp('2015-03-25 00:00:00'): 0.16479169802576532,\n Timestamp('2015-03-24 00:00:00'): 0.9991576601806195,\n Timestamp('2015-03-23 00:00:00'): 0.1371557804372472,\n Timestamp('2015-03-20 00:00:00'): 0.9879753868604662,\n Timestamp('2015-03-19 00:00:00'): 0.8694965087020883,\n Timestamp('2015-03-18 00:00:00'): 0.9351900982834992,\n Timestamp('2015-03-17 00:00:00'): 0.15507754410433694,\n Timestamp('2015-03-16 00:00:00'): 0.7211861567096526,\n Timestamp('2015-03-13 00:00:00'): 0.9880859252139719,\n Timestamp('2015-03-12 00:00:00'): 0.9881122582149439,\n Timestamp('2015-03-11 00:00:00'): 0.7654972237864771,\n Timestamp('2015-03-10 00:00:00'): 0.9988645897431722,\n Timestamp('2015-03-09 00:00:00'): 0.9637640485222106,\n Timestamp('2015-03-07 00:00:00'): 0.8665973045072801,\n Timestamp('2015-03-05 00:00:00'): 0.9728533799740576,\n Timestamp('2015-03-03 00:00:00'): 0.9676902501594765,\n Timestamp('2015-03-02 00:00:00'): 0.3949458538197117,\n Timestamp('2015-02-26 00:00:00'): 0.8777396829754452,\n Timestamp('2015-02-13 00:00:00'): 0.22296181393106096,\n Timestamp('2015-02-12 00:00:00'): 0.9656033236399134,\n Timestamp('2015-02-11 00:00:00'): 0.9750105289743637,\n Timestamp('2015-02-10 00:00:00'): 0.041713439660819085,\n Timestamp('2015-02-06 00:00:00'): 0.997956694887359,\n Timestamp('2015-02-05 00:00:00'): 0.9952621765710515,\n Timestamp('2015-02-04 00:00:00'): 0.9824559314084019,\n Timestamp('2015-02-03 00:00:00'): 0.9975294482102627,\n Timestamp('2015-02-02 00:00:00'): 0.9440803708774269,\n Timestamp('2015-01-30 00:00:00'): 0.9907342591561992,\n Timestamp('2015-01-28 00:00:00'): 0.9510132224513942,\n Timestamp('2015-01-27 00:00:00'): 0.9614165448250351,\n Timestamp('2015-01-26 00:00:00'): 0.9141009438823644,\n Timestamp('2015-01-23 00:00:00'): 0.06047311323542315,\n Timestamp('2015-01-22 00:00:00'): 0.9992564292114593,\n Timestamp('2015-01-21 00:00:00'): 0.9929150576489433,\n Timestamp('2015-01-20 00:00:00'): 0.051073473439957384,\n Timestamp('2015-01-19 00:00:00'): 0.40527726415788,\n Timestamp('2015-01-16 00:00:00'): 0.8094634269426217,\n Timestamp('2015-01-15 00:00:00'): 0.9800577204074951,\n Timestamp('2015-01-14 00:00:00'): 0.05850984286015637,\n Timestamp('2015-01-13 00:00:00'): 0.042389026218172754,\n Timestamp('2015-01-09 00:00:00'): 0.06965254073450788,\n Timestamp('2015-01-08 00:00:00'): 0.9990844029380151,\n Timestamp('2015-01-07 00:00:00'): 0.9440495345211948,\n Timestamp('2015-01-06 00:00:00'): 0.9507193959051513,\n Timestamp('2015-01-05 00:00:00'): 0.05914306406080483,\n Timestamp('2015-01-04 00:00:00'): 0.005093877846708894,\n Timestamp('2014-12-31 00:00:00'): 0.7700392781362907,\n Timestamp('2014-12-30 00:00:00'): 0.9106000680594583,\n Timestamp('2014-12-29 00:00:00'): 0.754764027144577,\n Timestamp('2014-12-25 00:00:00'): 0.9972966237222872,\n Timestamp('2014-12-24 00:00:00'): 0.9475135730058961,\n Timestamp('2014-12-22 00:00:00'): 0.08151240730888576,\n Timestamp('2014-12-19 00:00:00'): 0.2166031969535268,\n Timestamp('2014-12-18 00:00:00'): 0.369963621492865,\n Timestamp('2014-12-15 00:00:00'): 0.05646366804134406,\n Timestamp('2014-12-12 00:00:00'): 0.6991450757283859,\n Timestamp('2014-12-10 00:00:00'): 0.5251592623862569,\n Timestamp('2014-12-09 00:00:00'): 0.4062880567842976,\n Timestamp('2014-12-08 00:00:00'): 0.06988246940546716,\n Timestamp('2014-12-05 00:00:00'): 0.07182855740629779,\n Timestamp('2014-12-04 00:00:00'): 0.9945710229289249,\n Timestamp('2014-12-03 00:00:00'): 0.8372490022310687,\n Timestamp('2014-12-02 00:00:00'): 0.267923490837349,\n Timestamp('2014-11-28 00:00:00'): 0.9913776461539644,\n Timestamp('2014-11-27 00:00:00'): 0.04043397879965793,\n Timestamp('2014-11-26 00:00:00'): 0.9602785843655192,\n Timestamp('2014-11-25 00:00:00'): 0.5489900795633695,\n Timestamp('2014-11-24 00:00:00'): 0.049490007172376504,\n Timestamp('2014-11-22 00:00:00'): 0.9134610447616612,\n Timestamp('2014-11-20 00:00:00'): 0.7357240609164487,\n Timestamp('2014-11-19 00:00:00'): 0.8908512452758385,\n Timestamp('2014-11-18 00:00:00'): 0.857911709888384,\n Timestamp('2014-11-14 00:00:00'): 0.719768346964085,\n Timestamp('2014-11-13 00:00:00'): 0.9852692952384033,\n Timestamp('2014-11-12 00:00:00'): 0.03334828980870841,\n Timestamp('2014-11-11 00:00:00'): 0.9754166064959988,\n Timestamp('2014-11-10 00:00:00'): 0.9988705633479333,\n Timestamp('2014-11-07 00:00:00'): 0.042962465203142175,\n Timestamp('2014-11-06 00:00:00'): 0.04670329679270091,\n Timestamp('2014-11-04 00:00:00'): 0.9984353306342407,\n Timestamp('2014-11-03 00:00:00'): 0.9994340588351525,\n Timestamp('2014-10-31 00:00:00'): 0.11124806528506315,\n Timestamp('2014-10-30 00:00:00'): 0.0641550320168155,\n Timestamp('2014-10-29 00:00:00'): 0.049353044106439925,\n Timestamp('2014-10-28 00:00:00'): 0.11994495744025813,\n Timestamp('2014-10-27 00:00:00'): 0.05453764911800163,\n Timestamp('2014-10-24 00:00:00'): 0.06725507793701879,\n Timestamp('2014-10-22 00:00:00'): 0.999663106178279,\n Timestamp('2014-10-21 00:00:00'): 0.9991060423660884,\n Timestamp('2014-10-20 00:00:00'): 0.19011121517437146,\n Timestamp('2014-10-17 00:00:00'): 0.9511973319220598,\n Timestamp('2014-10-16 00:00:00'): 0.06215813834118411,\n Timestamp('2014-10-15 00:00:00'): 0.997996937404235,\n Timestamp('2014-10-14 00:00:00'): 0.9464474238488978,\n Timestamp('2014-10-13 00:00:00'): 0.9963474385427072,\n Timestamp('2014-10-10 00:00:00'): 0.9989578222157613,\n Timestamp('2014-10-09 00:00:00'): 0.986655819758116,\n Timestamp('2014-10-01 00:00:00'): 0.8079508487524966,\n Timestamp('2014-09-29 00:00:00'): 0.7426658621112713,\n Timestamp('2014-09-28 00:00:00'): 0.9994456481371351,\n Timestamp('2014-09-24 00:00:00'): 0.9400836899904907,\n Timestamp('2014-09-23 00:00:00'): 0.9931909156693152,\n Timestamp('2014-09-19 00:00:00'): 0.9813281877080366,\n Timestamp('2014-09-17 00:00:00'): 0.6600188833645064,\n Timestamp('2014-09-16 00:00:00'): 0.05055589364769786,\n Timestamp('2014-09-15 00:00:00'): 0.9933880961788266,\n Timestamp('2014-09-12 00:00:00'): 0.9961258985923099,\n Timestamp('2014-09-11 00:00:00'): 0.9967099359693691,\n Timestamp('2014-09-10 00:00:00'): 0.00959603721526614,\n Timestamp('2014-09-09 00:00:00'): 0.9896332708102812,\n Timestamp('2014-09-05 00:00:00'): 0.6150160914684755,\n Timestamp('2014-09-04 00:00:00'): 0.04992133936641041,\n Timestamp('2014-09-03 00:00:00'): 0.9543727824179719,\n Timestamp('2014-09-02 00:00:00'): 0.8809604733665342,\n Timestamp('2014-09-01 00:00:00'): 0.8114279418978056,\n Timestamp('2014-08-29 00:00:00'): 0.9874339910295465,\n Timestamp('2014-08-28 00:00:00'): 0.9836970060981074,\n Timestamp('2014-08-26 00:00:00'): 0.0577600787933914,\n Timestamp('2014-08-25 00:00:00'): 0.7703669287892246,\n Timestamp('2014-08-21 00:00:00'): 0.9586437058005235,\n Timestamp('2014-08-20 00:00:00'): 0.0843119196665797,\n Timestamp('2014-08-19 00:00:00'): 0.9999529429536739,\n Timestamp('2014-08-18 00:00:00'): 0.10081102582606827,\n Timestamp('2014-08-14 00:00:00'): 0.7854388287128546,\n Timestamp('2014-08-13 00:00:00'): 0.9622964471540454,\n Timestamp('2014-08-12 00:00:00'): 0.055131807869662985,\n Timestamp('2014-08-11 00:00:00'): 0.9664310346466268,\n Timestamp('2014-08-08 00:00:00'): 0.9844990613624051,\n Timestamp('2014-08-07 00:00:00'): 0.7885811768898897,\n Timestamp('2014-08-05 00:00:00'): 0.09709581369365228,\n Timestamp('2014-08-04 00:00:00'): 0.038363144880975586,\n Timestamp('2014-08-01 00:00:00'): 0.9352748865084617,\n Timestamp('2014-07-31 00:00:00'): 0.061028414363356265,\n Timestamp('2014-07-30 00:00:00'): 0.5261035242968946,\n Timestamp('2014-07-29 00:00:00'): 0.9240987038681576,\n Timestamp('2014-07-28 00:00:00'): 0.9691868857069112,\n Timestamp('2014-07-25 00:00:00'): 0.9821882416513806,\n Timestamp('2014-07-23 00:00:00'): 0.9899251855919432,\n Timestamp('2014-07-22 00:00:00'): 0.9423002166354388,\n Timestamp('2014-07-19 00:00:00'): 0.1540352802115551,\n Timestamp('2014-07-18 00:00:00'): 0.991506192433921,\n Timestamp('2014-07-17 00:00:00'): 0.9819001781031739,\n Timestamp('2014-07-15 00:00:00'): 0.08185062574585156,\n Timestamp('2014-07-14 00:00:00'): 0.4328148188865013,\n Timestamp('2014-07-11 00:00:00'): 0.9868143662553225,\n Timestamp('2014-07-10 00:00:00'): 0.9681466362032706,\n Timestamp('2014-07-09 00:00:00'): 0.998724683131688,\n Timestamp('2014-07-08 00:00:00'): 0.9889206084007415,\n Timestamp('2014-07-07 00:00:00'): 0.932478698165403,\n Timestamp('2014-07-04 00:00:00'): 0.20507025565772175,\n Timestamp('2014-07-03 00:00:00'): 0.19252408661712583,\n Timestamp('2014-07-02 00:00:00'): 0.9852523742641414,\n Timestamp('2014-07-01 00:00:00'): 0.9263374859233554,\n Timestamp('2014-06-27 00:00:00'): 0.5924137704389764,\n Timestamp('2014-06-26 00:00:00'): 0.9903527979049742,\n Timestamp('2014-06-25 00:00:00'): 0.9973280937430985,\n Timestamp('2014-06-24 00:00:00'): 0.996696797912472,\n Timestamp('2014-06-23 00:00:00'): 0.9936232914973856,\n Timestamp('2014-06-20 00:00:00'): 0.9859904200083583,\n Timestamp('2014-06-19 00:00:00'): 0.35017466748319903,\n Timestamp('2014-06-18 00:00:00'): 0.994517322300382,\n Timestamp('2014-06-17 00:00:00'): 0.9650316124109888,\n Timestamp('2014-06-16 00:00:00'): 0.9985146173930872,\n Timestamp('2014-06-13 00:00:00'): 0.3150342751948414,\n Timestamp('2014-06-12 00:00:00'): 0.7726427553648659,\n Timestamp('2014-06-11 00:00:00'): 0.9821870809016321,\n Timestamp('2014-06-08 00:00:00'): 0.9915107867284313,\n Timestamp('2014-06-05 00:00:00'): 0.9896865202405544,\n Timestamp('2014-06-04 00:00:00'): 0.6196216408684031,\n Timestamp('2014-06-03 00:00:00'): 0.25413355381459757,\n Timestamp('2014-05-31 00:00:00'): 0.10458094472466273,\n Timestamp('2014-05-26 00:00:00'): 0.9932394370511204,\n Timestamp('2014-05-23 00:00:00'): 0.616561264603577,\n Timestamp('2014-05-22 00:00:00'): 0.13299239331130763,\n Timestamp('2014-05-21 00:00:00'): 0.806778103645549,\n Timestamp('2014-05-20 00:00:00'): 0.860483271092445,\n Timestamp('2014-05-19 00:00:00'): 0.9992096940139459,\n Timestamp('2014-05-18 00:00:00'): 0.8857471224733959,\n Timestamp('2014-05-17 00:00:00'): 0.0584936475014578,\n Timestamp('2014-05-16 00:00:00'): 0.3612420777411257,\n Timestamp('2014-05-15 00:00:00'): 0.9892809289650868,\n Timestamp('2014-05-14 00:00:00'): 0.9895691239752292,\n Timestamp('2014-05-13 00:00:00'): 0.9764209829601014,\n Timestamp('2014-05-12 00:00:00'): 0.6112038247534345,\n Timestamp('2014-05-09 00:00:00'): 0.2565707506455268,\n Timestamp('2014-05-08 00:00:00'): 0.08481018727207912,\n Timestamp('2014-05-07 00:00:00'): 0.9912583106037871,\n Timestamp('2014-05-06 00:00:00'): 0.8919295034081605,\n Timestamp('2014-05-05 00:00:00'): 0.26878618341066796,\n Timestamp('2014-05-04 00:00:00'): 0.16787224532553324,\n Timestamp('2014-04-30 00:00:00'): 0.9904546522416989,\n Timestamp('2014-04-29 00:00:00'): 0.07847173824028608,\n Timestamp('2014-04-28 00:00:00'): 0.979055931503823,\n Timestamp('2014-04-26 00:00:00'): 0.0880842239814249,\n Timestamp('2014-04-24 00:00:00'): 0.08462866224108123,\n Timestamp('2014-04-23 00:00:00'): 0.9141290096421438,\n Timestamp('2014-04-22 00:00:00'): 0.9736017547748139,\n Timestamp('2014-04-21 00:00:00'): 0.9970386587944421,\n Timestamp('2014-04-20 00:00:00'): 0.9942687211129945,\n Timestamp('2014-04-18 00:00:00'): 0.9901033125047697,\n Timestamp('2014-04-15 00:00:00'): 0.989049186735082,\n Timestamp('2014-04-14 00:00:00'): 0.7222156806561727,\n Timestamp('2014-04-12 00:00:00'): 0.5965726437386469,\n Timestamp('2014-04-10 00:00:00'): 0.9966403910265624,\n Timestamp('2014-04-09 00:00:00'): 0.9983849778693978,\n Timestamp('2014-04-08 00:00:00'): 0.9826897499367576,\n Timestamp('2014-04-05 00:00:00'): 0.23195824678036847,\n Timestamp('2014-04-04 00:00:00'): 0.9887631821386664,\n Timestamp('2014-04-03 00:00:00'): 0.985491415852372,\n Timestamp('2014-04-02 00:00:00'): 0.964857685295461,\n Timestamp('2014-04-01 00:00:00'): 0.36444319983029694,\n Timestamp('2014-03-29 00:00:00'): 0.06351379298048332,\n Timestamp('2014-03-26 00:00:00'): 0.9902897930491751,\n Timestamp('2014-03-24 00:00:00'): 0.7940928061971819,\n Timestamp('2014-03-22 00:00:00'): 0.9879753868604662,\n Timestamp('2014-03-20 00:00:00'): 0.501870648307212,\n Timestamp('2014-03-19 00:00:00'): 0.12380200582664491,\n Timestamp('2014-03-17 00:00:00'): 0.758692122453183,\n Timestamp('2014-03-15 00:00:00'): 0.7620492189379755,\n Timestamp('2014-03-13 00:00:00'): 0.05509066655384098,\n Timestamp('2014-03-11 00:00:00'): 0.978661534409332,\n Timestamp('2014-03-10 00:00:00'): 0.08911790961528276,\n Timestamp('2014-03-08 00:00:00'): 0.42070965657163273,\n Timestamp('2014-03-07 00:00:00'): 0.09154694315340406,\n Timestamp('2014-03-05 00:00:00'): 0.9812277849919308,\n Timestamp('2014-03-04 00:00:00'): 0.05450021015765638,\n Timestamp('2014-03-02 00:00:00'): 0.04974894681116371,\n Timestamp('2014-02-25 00:00:00'): 0.9910527285993808,\n Timestamp('2014-02-24 00:00:00'): 0.9989125613561476,\n Timestamp('2014-02-22 00:00:00'): 0.038538391556611096,\n Timestamp('2014-02-21 00:00:00'): 0.9155192539802532,\n Timestamp('2014-02-20 00:00:00'): 0.9819079393621488,\n Timestamp('2014-02-19 00:00:00'): 0.9744878462946297,\n Timestamp('2014-02-18 00:00:00'): 0.8768102669271448,\n Timestamp('2014-02-17 00:00:00'): 0.9977477326304842,\n Timestamp('2014-02-16 00:00:00'): 0.9909299967164882,\n Timestamp('2014-02-15 00:00:00'): 0.9921495226824826,\n Timestamp('2014-02-14 00:00:00'): 0.9391857905109569,\n Timestamp('2014-02-13 00:00:00'): 0.04306734798916334,\n Timestamp('2014-02-11 00:00:00'): 0.0474787580510353,\n Timestamp('2014-02-10 00:00:00'): 0.041713439660819085,\n Timestamp('2014-02-09 00:00:00'): 0.9665122264579225,\n Timestamp('2014-02-07 00:00:00'): 0.13376173587080797,\n Timestamp('2014-01-28 00:00:00'): 0.012352946316718016,\n Timestamp('2014-01-23 00:00:00'): 0.9004939253421332,\n Timestamp('2014-01-21 00:00:00'): 0.5967560925627176,\n Timestamp('2014-01-20 00:00:00'): 0.8060047915213728,\n Timestamp('2014-01-19 00:00:00'): 0.9090228799289515,\n Timestamp('2014-01-18 00:00:00'): 0.9100415424672164,\n Timestamp('2014-01-17 00:00:00'): 0.9237649852211118,\n Timestamp('2014-01-14 00:00:00'): 0.7645942491943255,\n Timestamp('2014-01-13 00:00:00'): 0.011214009920035739,\n Timestamp('2014-01-10 00:00:00'): 0.9980416351817198,\n Timestamp('2014-01-08 00:00:00'): 0.04233034473432318,\n Timestamp('2014-01-07 00:00:00'): 0.7713404438391535,\n Timestamp('2014-01-06 00:00:00'): 0.13193501645422112,\n Timestamp('2014-01-03 00:00:00'): 0.9364857173414558,\n Timestamp('2013-12-31 00:00:00'): 0.49887662942637956,\n Timestamp('2013-12-27 00:00:00'): 0.999928661332054,\n Timestamp('2013-12-25 00:00:00'): 0.3592279820747265,\n Timestamp('2013-12-24 00:00:00'): 0.9642754814066257,\n Timestamp('2013-12-21 00:00:00'): 0.06337828014194014,\n Timestamp('2013-12-20 00:00:00'): 0.8228225883751741,\n Timestamp('2013-12-18 00:00:00'): 0.9667194273406337,\n Timestamp('2013-12-17 00:00:00'): 0.998863861987777,\n Timestamp('2013-12-16 00:00:00'): 0.9910603586831476,\n Timestamp('2013-12-12 00:00:00'): 0.03015401135940987,\n Timestamp('2013-12-10 00:00:00'): 0.9732552393071265,\n Timestamp('2013-12-09 00:00:00'): 0.04988686922103458,\n Timestamp('2013-12-07 00:00:00'): 0.647701033268813,\n Timestamp('2013-12-05 00:00:00'): 0.9299393317225491,\n Timestamp('2013-12-04 00:00:00'): 0.8998694617060105,\n Timestamp('2013-12-01 00:00:00'): 0.305272739644848,\n Timestamp('2013-11-30 00:00:00'): 0.8391437205430744,\n Timestamp('2013-11-28 00:00:00'): 0.009653728270959228,\n Timestamp('2013-11-26 00:00:00'): 0.825557894995306,\n Timestamp('2013-11-25 00:00:00'): 0.942574008004811,\n Timestamp('2013-11-22 00:00:00'): 0.8128357892825937,\n Timestamp('2013-11-20 00:00:00'): 0.6569212634551294,\n Timestamp('2013-11-19 00:00:00'): 0.01897396075029978,\n Timestamp('2013-11-15 00:00:00'): 0.029565715902264533,\n Timestamp('2013-11-13 00:00:00'): 0.9994740392214374,\n Timestamp('2013-11-11 00:00:00'): 0.0061117495746830786,\n Timestamp('2013-11-10 00:00:00'): 0.907310973282602,\n Timestamp('2013-11-07 00:00:00'): 0.010278028442765708,\n Timestamp('2013-11-05 00:00:00'): 0.9704517130126218,\n Timestamp('2013-11-02 00:00:00'): 0.09306758783931324,\n Timestamp('2013-10-28 00:00:00'): 0.9694694417469636,\n Timestamp('2013-10-23 00:00:00'): 0.7727160589180434,\n Timestamp('2013-10-21 00:00:00'): 0.9706310112841212,\n Timestamp('2013-10-19 00:00:00'): 0.9599376108891619,\n Timestamp('2013-10-17 00:00:00'): 0.9899280361691071,\n Timestamp('2013-10-16 00:00:00'): 0.8395217516079952,\n Timestamp('2013-10-15 00:00:00'): 0.05117248496354143,\n Timestamp('2013-10-14 00:00:00'): 0.7909488995162857,\n Timestamp('2013-10-11 00:00:00'): 0.04989065527898573,\n Timestamp('2013-10-09 00:00:00'): 0.016660825166442628,\n Timestamp('2013-10-08 00:00:00'): 0.9512076428747428,\n Timestamp('2013-09-30 00:00:00'): 0.8315766580825839,\n Timestamp('2013-09-26 00:00:00'): 0.0149905690467671,\n Timestamp('2013-09-25 00:00:00'): 0.9978318780985539,\n Timestamp('2013-09-24 00:00:00'): 0.014357340003190666,\n Timestamp('2013-09-16 00:00:00'): 0.013869125649718983,\n Timestamp('2013-09-11 00:00:00'): 0.010973159876662364,\n Timestamp('2013-09-09 00:00:00'): 0.012867606964514389,\n Timestamp('2013-09-06 00:00:00'): 0.01702016560671238,\n Timestamp('2013-09-04 00:00:00'): 0.9861801327599354,\n Timestamp('2013-09-02 00:00:00'): 0.02364506223443741,\n Timestamp('2013-08-31 00:00:00'): 0.3359262586397912,\n Timestamp('2013-08-29 00:00:00'): 0.9282053104393028,\n Timestamp('2013-08-27 00:00:00'): 0.8951176177031498,\n Timestamp('2013-08-23 00:00:00'): 0.6318109253793592,\n Timestamp('2013-08-22 00:00:00'): 0.9367800472422174,\n Timestamp('2013-08-21 00:00:00'): 0.9906133634488048,\n Timestamp('2013-08-19 00:00:00'): 0.03137798792633162,\n Timestamp('2013-08-17 00:00:00'): 0.9745825500669746,\n Timestamp('2013-08-15 00:00:00'): 0.024003598544317883,\n Timestamp('2013-08-12 00:00:00'): 0.02478477038656346,\n Timestamp('2013-08-09 00:00:00'): 0.028775727049178967,\n Timestamp('2013-08-05 00:00:00'): 0.08303966860580403,\n Timestamp('2013-08-03 00:00:00'): 0.9310863956010249,\n Timestamp('2013-07-30 00:00:00'): 0.9099624449306386,\n Timestamp('2013-07-27 00:00:00'): 0.9937716129857386,\n Timestamp('2013-07-25 00:00:00'): 0.900551627856047,\n Timestamp('2013-07-24 00:00:00'): 0.9952551881434077,\n Timestamp('2013-07-23 00:00:00'): 0.9224380685514725,\n Timestamp('2013-07-20 00:00:00'): 0.9899479364211485,\n Timestamp('2013-07-19 00:00:00'): 0.9529612030456663,\n Timestamp('2013-07-15 00:00:00'): 0.87715539249895,\n Timestamp('2013-07-13 00:00:00'): 0.8981759608218659,\n Timestamp('2013-07-11 00:00:00'): 0.9782049047799753,\n Timestamp('2013-07-10 00:00:00'): 0.8111813529611839,\n Timestamp('2013-07-09 00:00:00'): 0.10354662299339168,\n Timestamp('2013-07-08 00:00:00'): 0.142524205032459,\n Timestamp('2013-07-05 00:00:00'): 0.1871279558976856,\n Timestamp('2013-07-03 00:00:00'): 0.6100959410810518,\n Timestamp('2013-07-02 00:00:00'): 0.06165554318532973,\n Timestamp('2013-06-30 00:00:00'): 0.6456311712881452,\n Timestamp('2013-06-27 00:00:00'): 0.9747921814102074,\n Timestamp('2013-06-26 00:00:00'): 0.0248360676815067,\n Timestamp('2013-06-19 00:00:00'): 0.9272073442667097,\n Timestamp('2013-06-18 00:00:00'): 0.12962007598365732,\n Timestamp('2013-06-17 00:00:00'): 0.10391624209097283,\n Timestamp('2013-06-14 00:00:00'): 0.5497185997116091,\n Timestamp('2013-06-12 00:00:00'): 0.12445514157499671,\n Timestamp('2013-06-11 00:00:00'): 0.976017975610198,\n Timestamp('2013-06-09 00:00:00'): 0.9032571116610603,\n Timestamp('2013-06-08 00:00:00'): 0.6132103322406826,\n Timestamp('2013-06-07 00:00:00'): 0.9599991895590184,\n Timestamp('2013-06-06 00:00:00'): 0.9813889303070106,\n Timestamp('2013-06-05 00:00:00'): 0.9434556113465564,\n Timestamp('2013-06-04 00:00:00'): 0.5183087074134901,\n Timestamp('2013-06-03 00:00:00'): 0.9990417960769147,\n Timestamp('2013-06-01 00:00:00'): 0.28054626295230456,\n Timestamp('2013-05-31 00:00:00'): 0.9995997418850315,\n Timestamp('2013-05-30 00:00:00'): 0.9824632244341232,\n Timestamp('2013-05-29 00:00:00'): 0.999907308643148,\n Timestamp('2013-05-28 00:00:00'): 0.9819080882576547,\n Timestamp('2013-05-27 00:00:00'): 0.9971562114397662,\n Timestamp('2013-05-24 00:00:00'): 0.9968136804845888,\n Timestamp('2013-05-23 00:00:00'): 0.7558714836256463,\n Timestamp('2013-05-22 00:00:00'): 0.01465677761146078,\n Timestamp('2013-05-21 00:00:00'): 0.9730398318598634,\n Timestamp('2013-05-20 00:00:00'): 0.9801087244945763,\n Timestamp('2013-05-17 00:00:00'): 0.141109690164529,\n Timestamp('2013-05-15 00:00:00'): 0.02183549141435792,\n Timestamp('2013-05-14 00:00:00'): 0.982726876780357,\n Timestamp('2013-05-13 00:00:00'): 0.6238937197329497,\n Timestamp('2013-05-10 00:00:00'): 0.4982717017619298,\n Timestamp('2013-05-09 00:00:00'): 0.9663342681273052,\n Timestamp('2013-05-08 00:00:00'): 0.9607610809990477,\n Timestamp('2013-05-06 00:00:00'): 0.9703622673941713,\n Timestamp('2013-05-03 00:00:00'): 0.13959091413782698,\n Timestamp('2013-05-02 00:00:00'): 0.6433898334867041,\n Timestamp('2013-04-30 00:00:00'): 0.15596613997328534,\n Timestamp('2013-04-26 00:00:00'): 0.7501714561601631,\n Timestamp('2013-04-25 00:00:00'): 0.031640257655280224,\n Timestamp('2013-04-23 00:00:00'): 0.9789848865920219,\n Timestamp('2013-04-18 00:00:00'): 0.024343708312080214,\n Timestamp('2013-04-17 00:00:00'): 0.9672871241552887,\n Timestamp('2013-04-12 00:00:00'): 0.012819188535977744,\n Timestamp('2013-04-11 00:00:00'): 0.9897731715902303,\n Timestamp('2013-04-09 00:00:00'): 0.18568807120888586,\n Timestamp('2013-04-08 00:00:00'): 0.914783523416399,\n Timestamp('2013-04-07 00:00:00'): 0.43950318882997086,\n Timestamp('2013-04-03 00:00:00'): 0.9985046591767158,\n Timestamp('2013-04-02 00:00:00'): 0.11761739037006202,\n Timestamp('2013-03-29 00:00:00'): 0.14205455578179627,\n Timestamp('2013-03-28 00:00:00'): 0.9951322866010084,\n Timestamp('2013-03-27 00:00:00'): 0.6732533887467121,\n Timestamp('2013-03-26 00:00:00'): 0.8264960363347981,\n Timestamp('2013-03-25 00:00:00'): 0.27709882672763375,\n Timestamp('2013-03-22 00:00:00'): 0.9803432832459895,\n Timestamp('2013-03-21 00:00:00'): 0.9944502967701242,\n Timestamp('2013-03-20 00:00:00'): 0.3270126458745881,\n Timestamp('2013-03-19 00:00:00'): 0.5295148209049068,\n Timestamp('2013-03-18 00:00:00'): 0.3645414342407005,\n Timestamp('2013-03-15 00:00:00'): 0.384071390632696,\n Timestamp('2013-03-14 00:00:00'): 0.9216866896939946,\n Timestamp('2013-03-13 00:00:00'): 0.9845288959956324,\n Timestamp('2013-03-12 00:00:00'): 0.043002668287272505,\n Timestamp('2013-03-11 00:00:00'): 0.1703648717155769,\n Timestamp('2013-03-08 00:00:00'): 0.16925714497040523,\n Timestamp('2013-03-07 00:00:00'): 0.04768470291151461,\n Timestamp('2013-03-06 00:00:00'): 0.7803468202680236,\n Timestamp('2013-03-04 00:00:00'): 0.03826054728432071,\n Timestamp('2013-02-28 00:00:00'): 0.9790515294874966,\n Timestamp('2013-02-25 00:00:00'): 0.5631425920589468,\n Timestamp('2013-02-07 00:00:00'): 0.792058797576854,\n Timestamp('2013-02-06 00:00:00'): 0.1394100444318176,\n Timestamp('2013-02-05 00:00:00'): 0.9980421140123809,\n Timestamp('2013-02-04 00:00:00'): 0.9817374934593913,\n Timestamp('2013-02-01 00:00:00'): 0.10053053188862915,\n Timestamp('2013-01-31 00:00:00'): 0.7130086867120583,\n Timestamp('2013-01-30 00:00:00'): 0.08068150554107223,\n Timestamp('2013-01-22 00:00:00'): 0.9992164544647383,\n Timestamp('2013-01-19 00:00:00'): 0.023914109541260276,\n Timestamp('2013-01-18 00:00:00'): 0.9993684500849345,\n Timestamp('2013-01-17 00:00:00'): 0.0229174268373199,\n Timestamp('2013-01-16 00:00:00'): 0.2817652217244274,\n Timestamp('2013-01-10 00:00:00'): 0.6795895160542328,\n Timestamp('2013-01-09 00:00:00'): 0.6438050000469361,\n Timestamp('2013-01-08 00:00:00'): 0.13396524821146438,\n Timestamp('2013-01-07 00:00:00'): 0.9897150015327751,\n Timestamp('2013-01-05 00:00:00'): 0.7184721409134118,\n Timestamp('2013-01-04 00:00:00'): 0.6743570297693448,\n Timestamp('2012-12-31 00:00:00'): 0.9376487903182505,\n Timestamp('2012-12-28 00:00:00'): 0.9469855929428979,\n Timestamp('2012-12-27 00:00:00'): 0.29416746041467634,\n Timestamp('2012-12-26 00:00:00'): 0.9992481561466868,\n Timestamp('2012-12-25 00:00:00'): 0.792191802555675,\n Timestamp('2012-12-24 00:00:00'): 0.9935799048572242,\n Timestamp('2012-12-21 00:00:00'): 0.6181595667196,\n Timestamp('2012-12-20 00:00:00'): 0.27174825462015806,\n Timestamp('2012-12-19 00:00:00'): 0.8149914791698185,\n Timestamp('2012-12-18 00:00:00'): 0.34658898552429906,\n Timestamp('2012-12-17 00:00:00'): 0.7110332267155898,\n Timestamp('2012-12-15 00:00:00'): 0.9773570003619196,\n Timestamp('2012-12-11 00:00:00'): 0.37547387765113605,\n Timestamp('2012-12-08 00:00:00'): 0.021891643440030584,\n Timestamp('2012-12-06 00:00:00'): 0.5431256739858997,\n Timestamp('2012-12-05 00:00:00'): 0.05979471300178252,\n Timestamp('2012-12-04 00:00:00'): 0.05510369936809889,\n Timestamp('2012-12-03 00:00:00'): 0.27622327995936935,\n Timestamp('2012-11-30 00:00:00'): 0.5945400506070954,\n Timestamp('2012-11-29 00:00:00'): 0.6522699276147139,\n Timestamp('2012-11-28 00:00:00'): 0.999814559820112,\n Timestamp('2012-11-27 00:00:00'): 0.03859212675308299,\n Timestamp('2012-11-26 00:00:00'): 0.619664983908709,\n Timestamp('2012-11-24 00:00:00'): 0.9498101896866374,\n Timestamp('2012-11-23 00:00:00'): 0.7575293668639584,\n Timestamp('2012-11-22 00:00:00'): 0.37842712949536195,\n Timestamp('2012-11-21 00:00:00'): 0.6430308652310707,\n Timestamp('2012-11-20 00:00:00'): 0.5932904116445993,\n Timestamp('2012-11-16 00:00:00'): 0.9991272067600895,\n Timestamp('2012-11-15 00:00:00'): 0.680337967159356,\n Timestamp('2012-11-14 00:00:00'): 0.04620775527813459,\n Timestamp('2012-11-13 00:00:00'): 0.6628852964624349,\n Timestamp('2012-11-12 00:00:00'): 0.9131187789652851,\n Timestamp('2012-11-09 00:00:00'): 0.06635040150460325,\n Timestamp('2012-11-08 00:00:00'): 0.7031636505407632,\n Timestamp('2012-11-07 00:00:00'): 0.04297275933017053,\n Timestamp('2012-11-06 00:00:00'): 0.323021079430446,\n Timestamp('2012-11-05 00:00:00'): 0.7076737815847822,\n Timestamp('2012-11-02 00:00:00'): 0.032990717254664736,\n Timestamp('2012-11-01 00:00:00'): 0.11127281880476625,\n Timestamp('2012-10-31 00:00:00'): 0.07077340020829692,\n Timestamp('2012-10-30 00:00:00'): 0.6782157103647436,\n Timestamp('2012-10-26 00:00:00'): 0.3760977213248703,\n Timestamp('2012-10-25 00:00:00'): 0.9926838636275417,\n Timestamp('2012-10-22 00:00:00'): 0.04912220710691484,\n Timestamp('2012-10-19 00:00:00'): 0.10730561738016187,\n Timestamp('2012-10-18 00:00:00'): 0.06841021588390606,\n Timestamp('2012-10-17 00:00:00'): 0.3050908559110542,\n Timestamp('2012-10-16 00:00:00'): 0.986276174390695,\n Timestamp('2012-10-15 00:00:00'): 0.3059134761141774,\n Timestamp('2012-10-13 00:00:00'): 0.9789851755370669,\n Timestamp('2012-10-12 00:00:00'): 0.03681133356923039,\n Timestamp('2012-10-11 00:00:00'): 0.3280194642703189,\n Timestamp('2012-10-10 00:00:00'): 0.29887727268639086,\n Timestamp('2012-10-09 00:00:00'): 0.07739705162761079,\n Timestamp('2012-10-08 00:00:00'): 0.7729820394011662,\n Timestamp('2012-09-29 00:00:00'): 0.6300688318197907,\n Timestamp('2012-09-28 00:00:00'): 0.9954788920946288,\n Timestamp('2012-09-27 00:00:00'): 0.03631685394859285,\n Timestamp('2012-09-26 00:00:00'): 0.046907497011664745,\n Timestamp('2012-09-25 00:00:00'): 0.7262788013703492,\n Timestamp('2012-09-24 00:00:00'): 0.03714446070751187,\n Timestamp('2012-09-22 00:00:00'): 0.017484601580415426,\n Timestamp('2012-09-21 00:00:00'): 0.3187978648011055,\n Timestamp('2012-09-20 00:00:00'): 0.032640305732404284,\n Timestamp('2012-09-19 00:00:00'): 0.4826100999277745,\n Timestamp('2012-09-18 00:00:00'): 0.9829411538596381,\n Timestamp('2012-09-17 00:00:00'): 0.33969052698256574,\n Timestamp('2012-09-15 00:00:00'): 0.041503131364042045,\n Timestamp('2012-09-14 00:00:00'): 0.7116688868158497,\n Timestamp('2012-09-13 00:00:00'): 0.8644564631666324,\n Timestamp('2012-09-12 00:00:00'): 0.9960526857829031,\n Timestamp('2012-09-11 00:00:00'): 0.9702610532856274,\n Timestamp('2012-09-10 00:00:00'): 0.3924245002926323,\n Timestamp('2012-09-08 00:00:00'): 0.2857353647966471,\n Timestamp('2012-09-07 00:00:00'): 0.05891635105593429,\n Timestamp('2012-09-06 00:00:00'): 0.39949481757540517,\n Timestamp('2012-09-05 00:00:00'): 0.05794678965448996,\n Timestamp('2012-09-04 00:00:00'): 0.9202475780442874,\n Timestamp('2012-09-03 00:00:00'): 0.604681834431831,\n Timestamp('2012-08-31 00:00:00'): 0.22150506275982718,\n Timestamp('2012-08-30 00:00:00'): 0.08293860966699529,\n Timestamp('2012-08-29 00:00:00'): 0.10369677540957656,\n Timestamp('2012-08-28 00:00:00'): 0.7079066065130603,\n Timestamp('2012-08-27 00:00:00'): 0.1025889008936115,\n Timestamp('2012-08-25 00:00:00'): 0.822691866863903,\n Timestamp('2012-08-24 00:00:00'): 0.018976687790037583,\n Timestamp('2012-08-23 00:00:00'): 0.13053806720676664,\n Timestamp('2012-08-22 00:00:00'): 0.8916572241187206,\n Timestamp('2012-08-21 00:00:00'): 0.6597599090599902,\n Timestamp('2012-08-17 00:00:00'): 0.48584481665998536,\n Timestamp('2012-08-13 00:00:00'): 0.9461872255513275,\n Timestamp('2012-08-10 00:00:00'): 0.4753005656379805,\n Timestamp('2012-08-09 00:00:00'): 0.8019831100933336,\n Timestamp('2012-08-08 00:00:00'): 0.12747945029093544,\n Timestamp('2012-08-07 00:00:00'): 0.4668977194182673,\n Timestamp('2012-08-06 00:00:00'): 0.4482052838808629,\n Timestamp('2012-08-03 00:00:00'): 0.6285662183718763,\n Timestamp('2012-08-02 00:00:00'): 0.3995550266721395,\n Timestamp('2012-08-01 00:00:00'): 0.15945514473079303,\n Timestamp('2012-07-31 00:00:00'): 0.0941163295304821,\n Timestamp('2012-07-30 00:00:00'): 0.9831542392629465,\n Timestamp('2012-07-28 00:00:00'): 0.21922648923316634,\n Timestamp('2012-07-27 00:00:00'): 0.15647309916041685,\n Timestamp('2012-07-26 00:00:00'): 0.9624405664511213,\n Timestamp('2012-07-25 00:00:00'): 0.21547549713265657,\n Timestamp('2012-07-24 00:00:00'): 0.11453850289939238,\n Timestamp('2012-07-23 00:00:00'): 0.5851203562465721,\n Timestamp('2012-07-20 00:00:00'): 0.08565677942186367,\n Timestamp('2012-07-19 00:00:00'): 0.17198818280701988,\n Timestamp('2012-07-18 00:00:00'): 0.1126045313642644,\n Timestamp('2012-07-17 00:00:00'): 0.0628055793187321,\n Timestamp('2012-07-16 00:00:00'): 0.971068226957655,\n Timestamp('2012-07-13 00:00:00'): 0.8591801870523939,\n Timestamp('2012-07-12 00:00:00'): 0.9574439627801168,\n Timestamp('2012-07-11 00:00:00'): 0.9994816192256089,\n Timestamp('2012-07-10 00:00:00'): 0.3484388047883883,\n Timestamp('2012-07-09 00:00:00'): 0.9223392605870189,\n Timestamp('2012-07-06 00:00:00'): 0.10033699201505675,\n Timestamp('2012-07-05 00:00:00'): 0.12902754227410596,\n Timestamp('2012-07-04 00:00:00'): 0.9989327161098361,\n Timestamp('2012-07-03 00:00:00'): 0.7724911969157333,\n Timestamp('2012-07-02 00:00:00'): 0.9296783028159514,\n Timestamp('2012-06-29 00:00:00'): 0.06505401142649592,\n Timestamp('2012-06-28 00:00:00'): 0.4601662066011366,\n Timestamp('2012-06-27 00:00:00'): 0.07508227942035695,\n Timestamp('2012-06-26 00:00:00'): 0.8773336998708463,\n Timestamp('2012-06-25 00:00:00'): 0.9681431269454539,\n Timestamp('2012-06-24 00:00:00'): 0.9227471101658966,\n Timestamp('2012-06-23 00:00:00'): 0.45903981929671955,\n Timestamp('2012-06-20 00:00:00'): 0.956596083859943,\n Timestamp('2012-06-19 00:00:00'): 0.13559632161870638,\n Timestamp('2012-06-18 00:00:00'): 0.13872250198237024,\n Timestamp('2012-06-15 00:00:00'): 0.4090238830315398,\n Timestamp('2012-06-14 00:00:00'): 0.42096017282537723,\n Timestamp('2012-06-13 00:00:00'): 0.060793198414359484,\n Timestamp('2012-06-12 00:00:00'): 0.2852032123140914,\n Timestamp('2012-06-11 00:00:00'): 0.09797744309022904,\n Timestamp('2012-06-07 00:00:00'): 0.07959772181717928,\n Timestamp('2012-06-06 00:00:00'): 0.9399935313511236,\n Timestamp('2012-06-05 00:00:00'): 0.47087492876278414,\n Timestamp('2012-06-04 00:00:00'): 0.9109185610360676,\n Timestamp('2012-06-01 00:00:00'): 0.6345399441821654,\n Timestamp('2012-05-30 00:00:00'): 0.8798242308932218,\n Timestamp('2012-05-29 00:00:00'): 0.1917737406552914,\n Timestamp('2012-05-28 00:00:00'): 0.8359722977534234,\n Timestamp('2012-05-26 00:00:00'): 0.11825465971396143,\n Timestamp('2012-05-25 00:00:00'): 0.9542319857409544,\n Timestamp('2012-05-24 00:00:00'): 0.3104502660616806,\n Timestamp('2012-05-23 00:00:00'): 0.14892448634779554,\n Timestamp('2012-05-22 00:00:00'): 0.24074788624576848,\n Timestamp('2012-05-21 00:00:00'): 0.90859642912758,\n Timestamp('2012-05-18 00:00:00'): 0.11291921530354432,\n Timestamp('2012-05-17 00:00:00'): 0.06456827098913265,\n Timestamp('2012-05-16 00:00:00'): 0.0956131960561365,\n Timestamp('2012-05-15 00:00:00'): 0.47898720678186124,\n Timestamp('2012-05-11 00:00:00'): 0.08694514720932955,\n Timestamp('2012-05-10 00:00:00'): 0.40477326616779885,\n Timestamp('2012-05-09 00:00:00'): 0.07593375405527103,\n Timestamp('2012-05-03 00:00:00'): 0.5,\n Timestamp('2012-04-22 00:00:00'): 0.42804832065094967,\n Timestamp('2012-03-20 00:00:00'): 0.8841643676029831,\n Timestamp('2012-03-15 00:00:00'): 0.621047420026841,\n Timestamp('2012-03-14 00:00:00'): 0.6005426182652437,\n Timestamp('2012-03-13 00:00:00'): 0.8169108709117204,\n Timestamp('2012-03-09 00:00:00'): 0.9786638247794737,\n Timestamp('2012-03-07 00:00:00'): 0.5500754436593254,\n Timestamp('2012-03-05 00:00:00'): 0.9991539737491247,\n Timestamp('2012-03-02 00:00:00'): 0.9792479550409291,\n Timestamp('2012-03-01 00:00:00'): 0.3622035066041034,\n Timestamp('2012-02-29 00:00:00'): 0.48569459304608653,\n Timestamp('2012-02-28 00:00:00'): 0.5852762782900158,\n Timestamp('2012-02-27 00:00:00'): 0.9978081274103852,\n Timestamp('2012-02-24 00:00:00'): 0.8160930027895263,\n Timestamp('2012-02-22 00:00:00'): 0.10298674070922975,\n Timestamp('2012-02-21 00:00:00'): 0.3007083941395299,\n Timestamp('2012-02-20 00:00:00'): 0.9934852099230064,\n Timestamp('2012-02-17 00:00:00'): 0.6346791180645637,\n Timestamp('2012-02-16 00:00:00'): 0.5135304675372969,\n Timestamp('2012-02-15 00:00:00'): 0.8611737709500217,\n Timestamp('2012-02-14 00:00:00'): 0.5590781524373688,\n Timestamp('2012-02-13 00:00:00'): 0.1363901744914282,\n Timestamp('2012-02-08 00:00:00'): 0.9584624885672356,\n Timestamp('2012-02-07 00:00:00'): 0.910703842680215,\n Timestamp('2012-02-06 00:00:00'): 0.7026635926573099,\n Timestamp('2012-02-03 00:00:00'): 0.5357730018979445,\n Timestamp('2012-02-02 00:00:00'): 0.5550884488056046,\n Timestamp('2012-02-01 00:00:00'): 0.2790984382111352,\n Timestamp('2012-01-18 00:00:00'): 0.009876926872383174,\n Timestamp('2012-01-17 00:00:00'): 0.9979888737858984,\n Timestamp('2012-01-16 00:00:00'): 0.9593203716070798,\n Timestamp('2012-01-14 00:00:00'): 0.8938327328486961,\n Timestamp('2012-01-13 00:00:00'): 0.9227323233932901,\n Timestamp('2012-01-12 00:00:00'): 0.9438730245670303,\n Timestamp('2012-01-10 00:00:00'): 0.98059456998656,\n Timestamp('2012-01-06 00:00:00'): 0.7749051961971447,\n Timestamp('2012-01-05 00:00:00'): 0.6625700519131744,\n Timestamp('2012-01-04 00:00:00'): 0.9358176239995257,\n Timestamp('2011-12-31 00:00:00'): 0.9269929347758243,\n Timestamp('2011-12-30 00:00:00'): 0.1720058642885588,\n Timestamp('2011-12-28 00:00:00'): 0.9291894150418067,\n Timestamp('2011-12-27 00:00:00'): 0.02485293554389212,\n Timestamp('2011-12-26 00:00:00'): 0.9551929991612752,\n Timestamp('2011-12-25 00:00:00'): 0.06331068946774898,\n Timestamp('2011-12-23 00:00:00'): 0.3622537639869716,\n Timestamp('2011-12-22 00:00:00'): 0.9939259886502214,\n Timestamp('2011-12-21 00:00:00'): 0.7618456253801054,\n Timestamp('2011-12-20 00:00:00'): 0.3518607014210382,\n Timestamp('2011-12-19 00:00:00'): 0.9994763037726914,\n Timestamp('2011-12-15 00:00:00'): 0.6496058785047596,\n Timestamp('2011-12-12 00:00:00'): 0.9115621697709575,\n Timestamp('2011-12-09 00:00:00'): 0.09655910194832218,\n Timestamp('2011-12-07 00:00:00'): 0.9432520868750269,\n Timestamp('2011-12-06 00:00:00'): 0.42827175256909256,\n Timestamp('2011-12-05 00:00:00'): 0.13163680872812533,\n Timestamp('2011-12-02 00:00:00'): 0.9984539588472481,\n Timestamp('2011-12-01 00:00:00'): 0.9912558939493508,\n Timestamp('2011-11-29 00:00:00'): 0.9014968863713257,\n Timestamp('2011-11-28 00:00:00'): 0.37889997571791145,\n Timestamp('2011-11-25 00:00:00'): 0.8530929142386209,\n Timestamp('2011-11-24 00:00:00'): 0.9693979115519109,\n Timestamp('2011-11-22 00:00:00'): 0.3518607014210382,\n Timestamp('2011-11-21 00:00:00'): 0.5072404529715835,\n Timestamp('2011-11-18 00:00:00'): 0.7750117274469089,\n Timestamp('2011-11-17 00:00:00'): 0.9677591415960756,\n Timestamp('2011-11-16 00:00:00'): 0.7995155135777242,\n Timestamp('2011-11-15 00:00:00'): 0.8118804782207651,\n Timestamp('2011-11-14 00:00:00'): 0.9924259129400106,\n Timestamp('2011-11-11 00:00:00'): 0.9981571523087462,\n Timestamp('2011-11-10 00:00:00'): 0.44010344275229274,\n Timestamp('2011-11-09 00:00:00'): 0.6213875402794437,\n Timestamp('2011-11-08 00:00:00'): 0.011535288312826908,\n Timestamp('2011-11-07 00:00:00'): 0.5865065089793019,\n Timestamp('2011-11-04 00:00:00'): 0.3111759491910341,\n Timestamp('2011-11-03 00:00:00'): 0.9813705374899221,\n Timestamp('2011-11-01 00:00:00'): 0.97353836868667,\n Timestamp('2011-10-31 00:00:00'): 0.24769439900545676,\n Timestamp('2011-10-30 00:00:00'): 0.9653603837234209,\n Timestamp('2011-10-19 00:00:00'): 0.8127866553081919,\n Timestamp('2011-10-18 00:00:00'): 0.9939956717556592,\n Timestamp('2011-10-17 00:00:00'): 0.32695019954417437,\n Timestamp('2011-10-14 00:00:00'): 0.8856578640171534,\n Timestamp('2011-10-13 00:00:00'): 0.9359982221203837,\n Timestamp('2011-10-12 00:00:00'): 0.13584913592249848,\n Timestamp('2011-10-11 00:00:00'): 0.20559126828048402,\n Timestamp('2011-10-10 00:00:00'): 0.48671090775227976,\n Timestamp('2011-10-09 00:00:00'): 0.9937101778007911,\n Timestamp('2011-10-08 00:00:00'): 0.008420798719601552,\n Timestamp('2011-09-30 00:00:00'): 0.9907278849115654,\n Timestamp('2011-09-29 00:00:00'): 0.9523055978899374,\n Timestamp('2011-09-28 00:00:00'): 0.5738097978600558,\n Timestamp('2011-09-27 00:00:00'): 0.9907562850129166,\n Timestamp('2011-09-26 00:00:00'): 0.9800813836796768,\n Timestamp('2011-09-23 00:00:00'): 0.9817520081038301,\n Timestamp('2011-09-22 00:00:00'): 0.9390413840537237,\n Timestamp('2011-09-21 00:00:00'): 0.09233948135483994,\n Timestamp('2011-09-20 00:00:00'): 0.9746027783525061,\n Timestamp('2011-09-19 00:00:00'): 0.5174231513443791,\n Timestamp('2011-09-16 00:00:00'): 0.1863618119775311,\n Timestamp('2011-09-15 00:00:00'): 0.7388952601768946,\n Timestamp('2011-09-14 00:00:00'): 0.997835223430617,\n Timestamp('2011-09-13 00:00:00'): 0.9939956717556592,\n Timestamp('2011-09-08 00:00:00'): 0.9734493916204605,\n Timestamp('2011-09-07 00:00:00'): 0.9990705555302902,\n Timestamp('2011-09-06 00:00:00'): 0.7981409584040292,\n Timestamp('2011-09-05 00:00:00'): 0.9833471610221042,\n Timestamp('2011-09-02 00:00:00'): 0.9802055676944398,\n Timestamp('2011-09-01 00:00:00'): 0.9966022378826307,\n Timestamp('2011-08-31 00:00:00'): 0.5060909473556783,\n Timestamp('2011-08-30 00:00:00'): 0.08453938165852437,\n Timestamp('2011-08-29 00:00:00'): 0.4359159458231727,\n Timestamp('2011-08-23 00:00:00'): 0.7525235235439091,\n Timestamp('2011-08-22 00:00:00'): 0.8617507694926398,\n Timestamp('2011-08-20 00:00:00'): 0.8977677879050744,\n Timestamp('2011-08-12 00:00:00'): 0.8530744337528894,\n Timestamp('2011-08-11 00:00:00'): 0.9143778834530895,\n Timestamp('2011-08-10 00:00:00'): 0.17152294836139637,\n Timestamp('2011-08-09 00:00:00'): 0.015816323016772604,\n Timestamp('2011-08-08 00:00:00'): 0.009354646448799242,\n Timestamp('2011-08-06 00:00:00'): 0.002314743141182851,\n Timestamp('2011-08-03 00:00:00'): 0.05799602753685962,\n Timestamp('2011-08-02 00:00:00'): 0.6786621242163031,\n Timestamp('2011-08-01 00:00:00'): 0.9800782498038066,\n Timestamp('2011-07-29 00:00:00'): 0.8788434686853593,\n Timestamp('2011-07-26 00:00:00'): 0.27101196386010384,\n Timestamp('2011-07-25 00:00:00'): 0.8388976290662392,\n Timestamp('2011-07-19 00:00:00'): 0.9671796582457277,\n Timestamp('2011-07-13 00:00:00'): 0.6375640041840873,\n Timestamp('2011-07-06 00:00:00'): 0.14606567878017207,\n Timestamp('2011-07-05 00:00:00'): 0.6068790991726125,\n Timestamp('2011-07-04 00:00:00'): 0.7020406876647431,\n Timestamp('2011-06-30 00:00:00'): 0.2542871609146894,\n Timestamp('2011-06-28 00:00:00'): 0.6453943274364718,\n Timestamp('2011-06-22 00:00:00'): 0.27720023606014077,\n Timestamp('2011-06-20 00:00:00'): 0.052362995739063334,\n Timestamp('2011-06-17 00:00:00'): 0.793559520969619,\n Timestamp('2011-06-16 00:00:00'): 0.8288207370405697,\n Timestamp('2011-06-15 00:00:00'): 0.03798535788555624,\n Timestamp('2011-06-14 00:00:00'): 0.42409336166242806,\n Timestamp('2011-06-13 00:00:00'): 0.47585378696162295,\n Timestamp('2011-06-10 00:00:00'): 0.8610847219326239,\n Timestamp('2011-06-09 00:00:00'): 0.9879197609550856,\n Timestamp('2011-06-08 00:00:00'): 0.437844061819352,\n Timestamp('2011-06-07 00:00:00'): 0.5505744787547309,\n Timestamp('2011-06-01 00:00:00'): 0.4598318734620004,\n Timestamp('2011-05-31 00:00:00'): 0.4195874608650366,\n Timestamp('2011-05-30 00:00:00'): 0.06066445240895091,\n Timestamp('2011-05-23 00:00:00'): 0.6379334268087806,\n Timestamp('2011-05-20 00:00:00'): 0.1829901502713006,\n Timestamp('2011-05-19 00:00:00'): 0.06040653420492559,\n Timestamp('2011-05-17 00:00:00'): 0.11013532582236774,\n Timestamp('2011-05-16 00:00:00'): 0.2188264247548548,\n Timestamp('2011-05-13 00:00:00'): 0.9376557166345044,\n Timestamp('2011-05-12 00:00:00'): 0.06910285188723908,\n Timestamp('2011-05-11 00:00:00'): 0.13668284134435615,\n Timestamp('2011-05-10 00:00:00'): 0.9965919740606404,\n Timestamp('2011-05-06 00:00:00'): 0.028388082011626015,\n Timestamp('2011-05-05 00:00:00'): 0.9949643288201583,\n Timestamp('2011-05-04 00:00:00'): 0.12420865213368903,\n Timestamp('2011-05-03 00:00:00'): 0.22185035926006214,\n Timestamp('2011-04-29 00:00:00'): 0.048088226487822405,\n Timestamp('2011-04-28 00:00:00'): 0.06719219911725982,\n Timestamp('2011-04-27 00:00:00'): 0.19391937162153106,\n Timestamp('2011-04-26 00:00:00'): 0.8282138704223584,\n ...}"
     },
     "execution_count": 140,
     "metadata": {},
     "output_type": "execute_result"
    }
   ],
   "source": [
    "dict(zip(text.date,text.sentiment))\n"
   ],
   "metadata": {
    "collapsed": false,
    "pycharm": {
     "name": "#%%\n"
    }
   }
  },
  {
   "cell_type": "code",
   "execution_count": 141,
   "outputs": [
    {
     "data": {
      "text/plain": "                     title                                   text_cut  \\\n19  国务院：决定对美600亿美元进口商品加征关税  [国务院, 决定, 对, 美, 600亿, 美元, 进口, 商品, 加征, 关税]   \n20      外交部长王毅：中美在大方向上达成一致        [外交, 部长, 王毅, 中, 美, 在, 大方向上, 达成, 一致]   \n\n          text_cut_stopwords_str                      text_cut_stopwords  \\\n19  国务院 决定 美 600亿 美元 进口 商品 加征 关税  [国务院, 决定, 美, 600亿, 美元, 进口, 商品, 加征, 关税]   \n20       外交 部长 王毅 中 美 大方向上 达成 一致        [外交, 部长, 王毅, 中, 美, 大方向上, 达成, 一致]   \n\n         date  sentiment  \n19 2018-08-06   0.979442  \n20 2018-08-06   0.985522  ",
      "text/html": "<div>\n<style scoped>\n    .dataframe tbody tr th:only-of-type {\n        vertical-align: middle;\n    }\n\n    .dataframe tbody tr th {\n        vertical-align: top;\n    }\n\n    .dataframe thead th {\n        text-align: right;\n    }\n</style>\n<table border=\"1\" class=\"dataframe\">\n  <thead>\n    <tr style=\"text-align: right;\">\n      <th></th>\n      <th>title</th>\n      <th>text_cut</th>\n      <th>text_cut_stopwords_str</th>\n      <th>text_cut_stopwords</th>\n      <th>date</th>\n      <th>sentiment</th>\n    </tr>\n  </thead>\n  <tbody>\n    <tr>\n      <th>19</th>\n      <td>国务院：决定对美600亿美元进口商品加征关税</td>\n      <td>[国务院, 决定, 对, 美, 600亿, 美元, 进口, 商品, 加征, 关税]</td>\n      <td>国务院 决定 美 600亿 美元 进口 商品 加征 关税</td>\n      <td>[国务院, 决定, 美, 600亿, 美元, 进口, 商品, 加征, 关税]</td>\n      <td>2018-08-06</td>\n      <td>0.979442</td>\n    </tr>\n    <tr>\n      <th>20</th>\n      <td>外交部长王毅：中美在大方向上达成一致</td>\n      <td>[外交, 部长, 王毅, 中, 美, 在, 大方向上, 达成, 一致]</td>\n      <td>外交 部长 王毅 中 美 大方向上 达成 一致</td>\n      <td>[外交, 部长, 王毅, 中, 美, 大方向上, 达成, 一致]</td>\n      <td>2018-08-06</td>\n      <td>0.985522</td>\n    </tr>\n  </tbody>\n</table>\n</div>"
     },
     "execution_count": 141,
     "metadata": {},
     "output_type": "execute_result"
    }
   ],
   "source": [
    "#查看20180806数据\n",
    "text[text.date=='2018-08-06']"
   ],
   "metadata": {
    "collapsed": false,
    "pycharm": {
     "name": "#%%\n"
    }
   }
  },
  {
   "cell_type": "code",
   "execution_count": null,
   "outputs": [],
   "source": [
    "senti_all_date['sentiment2']=senti_all_date.index.map(dict(zip(text.date,text.sentiment)),0.5)"
   ],
   "metadata": {
    "collapsed": false,
    "pycharm": {
     "name": "#%%\n"
    }
   }
  },
  {
   "cell_type": "code",
   "execution_count": 130,
   "outputs": [
    {
     "data": {
      "text/plain": "2283"
     },
     "execution_count": 130,
     "metadata": {},
     "output_type": "execute_result"
    }
   ],
   "source": [
    "senti_all_date['sentiment2'].isnull().sum()"
   ],
   "metadata": {
    "collapsed": false,
    "pycharm": {
     "name": "#%%\n"
    }
   }
  },
  {
   "cell_type": "code",
   "execution_count": null,
   "outputs": [],
   "source": [
    "type(text.date)\n"
   ],
   "metadata": {
    "collapsed": false,
    "pycharm": {
     "name": "#%%\n"
    }
   }
  },
  {
   "cell_type": "code",
   "execution_count": 132,
   "outputs": [
    {
     "data": {
      "text/plain": "            sentiment  sentiment2\n2010-01-04          0    0.530890\n2010-01-05          0    0.003893\n2010-01-06          0    0.765290\n2010-01-07          0    0.368800\n2010-01-08          0    0.350436\n...               ...         ...\n2019-06-27          0         NaN\n2019-06-28          0         NaN\n2019-06-29          0         NaN\n2019-06-30          0         NaN\n2019-07-01          0    0.988380\n\n[3466 rows x 2 columns]",
      "text/html": "<div>\n<style scoped>\n    .dataframe tbody tr th:only-of-type {\n        vertical-align: middle;\n    }\n\n    .dataframe tbody tr th {\n        vertical-align: top;\n    }\n\n    .dataframe thead th {\n        text-align: right;\n    }\n</style>\n<table border=\"1\" class=\"dataframe\">\n  <thead>\n    <tr style=\"text-align: right;\">\n      <th></th>\n      <th>sentiment</th>\n      <th>sentiment2</th>\n    </tr>\n  </thead>\n  <tbody>\n    <tr>\n      <th>2010-01-04</th>\n      <td>0</td>\n      <td>0.530890</td>\n    </tr>\n    <tr>\n      <th>2010-01-05</th>\n      <td>0</td>\n      <td>0.003893</td>\n    </tr>\n    <tr>\n      <th>2010-01-06</th>\n      <td>0</td>\n      <td>0.765290</td>\n    </tr>\n    <tr>\n      <th>2010-01-07</th>\n      <td>0</td>\n      <td>0.368800</td>\n    </tr>\n    <tr>\n      <th>2010-01-08</th>\n      <td>0</td>\n      <td>0.350436</td>\n    </tr>\n    <tr>\n      <th>...</th>\n      <td>...</td>\n      <td>...</td>\n    </tr>\n    <tr>\n      <th>2019-06-27</th>\n      <td>0</td>\n      <td>NaN</td>\n    </tr>\n    <tr>\n      <th>2019-06-28</th>\n      <td>0</td>\n      <td>NaN</td>\n    </tr>\n    <tr>\n      <th>2019-06-29</th>\n      <td>0</td>\n      <td>NaN</td>\n    </tr>\n    <tr>\n      <th>2019-06-30</th>\n      <td>0</td>\n      <td>NaN</td>\n    </tr>\n    <tr>\n      <th>2019-07-01</th>\n      <td>0</td>\n      <td>0.988380</td>\n    </tr>\n  </tbody>\n</table>\n<p>3466 rows × 2 columns</p>\n</div>"
     },
     "execution_count": 132,
     "metadata": {},
     "output_type": "execute_result"
    }
   ],
   "source": [
    "senti_all_date\n",
    "\n"
   ],
   "metadata": {
    "collapsed": false,
    "pycharm": {
     "name": "#%%\n"
    }
   }
  },
  {
   "cell_type": "code",
   "execution_count": 133,
   "outputs": [
    {
     "data": {
      "text/plain": "                            title  \\\n0            中美元首会晤，习近平同特朗普谈了这些大事   \n1        投机基金仍然看空大豆市场，但是过去一周减持净空单   \n2     香港查出非洲猪瘟病毒感染政府销毁上水屠宰场600头生猪   \n3       投机基金在CBOT大豆期市的净空单创下15个月新高   \n4                西藏自治区林芝市发生非洲猪瘟疫情   \n...                           ...   \n3286          美国大豆进口订货量过高，或造成供过于求   \n3287                政策预期助推农产品期货走强   \n3288            78家大豆加工企业暂被取消补贴资格   \n3289               关于东北大豆市场补贴消息播报   \n3290           胡锦涛主席河北考察&;将出台惠农新政   \n\n                                               text_cut  \\\n0             [中, 美元, 首, 会晤, 习近平, 同, 特朗普, 谈, 了, 这些, 大事]   \n1       [投机, 基金, 仍然, 看空, 大豆, 市场, 但是, 过去, 一, 周, 减持, 净空单]   \n2     [香港, 查出, 非洲, 猪瘟, 病毒, 感染, 政府, 销毁, 上水, 屠宰场, 600,...   \n3     [投机, 基金, 在, CBOT, 大豆, 期市, 的, 净空单, 创下, 15, 个, 月...   \n4                        [西藏, 自治区, 林芝市, 发生, 非洲, 猪瘟, 疫情]   \n...                                                 ...   \n3286               [美国, 大豆, 进口, 订货量, 过, 高, 或, 造成, 供过于求]   \n3287                          [政策, 预期, 助推, 农产品, 期货, 走强]   \n3288              [78, 家, 大豆, 加工, 企业, 暂, 被, 取消, 补贴, 资格]   \n3289                       [关于, 东北, 大豆, 市场, 补贴, 消息, 播报]   \n3290                   [胡锦涛, 主席, 河北, 考察, 将, 出台, 惠农, 新政]   \n\n                    text_cut_stopwords_str  \\\n0                   中 美元 首 会晤 习近平 特朗普 谈 大事   \n1            投机 基金 仍然 看空 大豆 市场 过去 周 减持 净空单   \n2     香港 非洲 猪瘟 病毒 感染 政府 销毁 上水 屠宰场 600 头 生猪   \n3             投机 基金 CBOT 大豆 期市 净空单 15 月 新高   \n4                      西藏 自治区 林芝市 非洲 猪瘟 疫情   \n...                                    ...   \n3286                美国 大豆 进口 订货量 高 造成 供过于求   \n3287                    政策 预期 助推 农产品 期货 走强   \n3288              78 家 大豆 加工 企业 暂 取消 补贴 资格   \n3289                     东北 大豆 市场 补贴 消息 播报   \n3290                 胡锦涛 主席 河北 考察 出台 惠农 新政   \n\n                                     text_cut_stopwords       date  sentiment  \n0                       [中, 美元, 首, 会晤, 习近平, 特朗普, 谈, 大事] 2019-07-01   0.988380  \n1              [投机, 基金, 仍然, 看空, 大豆, 市场, 过去, 周, 减持, 净空单] 2019-06-06   0.889136  \n2     [香港, 非洲, 猪瘟, 病毒, 感染, 政府, 销毁, 上水, 屠宰场, 600, 头, 生猪] 2019-05-13   0.949319  \n3                [投机, 基金, CBOT, 大豆, 期市, 净空单, 15, 月, 新高] 2019-04-25   0.422487  \n4                            [西藏, 自治区, 林芝市, 非洲, 猪瘟, 疫情] 2019-04-08   0.892726  \n...                                                 ...        ...        ...  \n3286                     [美国, 大豆, 进口, 订货量, 高, 造成, 供过于求] 2010-01-06   0.765290  \n3287                          [政策, 预期, 助推, 农产品, 期货, 走强] 2010-01-05   0.896063  \n3288                 [78, 家, 大豆, 加工, 企业, 暂, 取消, 补贴, 资格] 2010-01-05   0.003893  \n3289                           [东北, 大豆, 市场, 补贴, 消息, 播报] 2010-01-04   0.086830  \n3290                      [胡锦涛, 主席, 河北, 考察, 出台, 惠农, 新政] 2010-01-04   0.530890  \n\n[3291 rows x 6 columns]",
      "text/html": "<div>\n<style scoped>\n    .dataframe tbody tr th:only-of-type {\n        vertical-align: middle;\n    }\n\n    .dataframe tbody tr th {\n        vertical-align: top;\n    }\n\n    .dataframe thead th {\n        text-align: right;\n    }\n</style>\n<table border=\"1\" class=\"dataframe\">\n  <thead>\n    <tr style=\"text-align: right;\">\n      <th></th>\n      <th>title</th>\n      <th>text_cut</th>\n      <th>text_cut_stopwords_str</th>\n      <th>text_cut_stopwords</th>\n      <th>date</th>\n      <th>sentiment</th>\n    </tr>\n  </thead>\n  <tbody>\n    <tr>\n      <th>0</th>\n      <td>中美元首会晤，习近平同特朗普谈了这些大事</td>\n      <td>[中, 美元, 首, 会晤, 习近平, 同, 特朗普, 谈, 了, 这些, 大事]</td>\n      <td>中 美元 首 会晤 习近平 特朗普 谈 大事</td>\n      <td>[中, 美元, 首, 会晤, 习近平, 特朗普, 谈, 大事]</td>\n      <td>2019-07-01</td>\n      <td>0.988380</td>\n    </tr>\n    <tr>\n      <th>1</th>\n      <td>投机基金仍然看空大豆市场，但是过去一周减持净空单</td>\n      <td>[投机, 基金, 仍然, 看空, 大豆, 市场, 但是, 过去, 一, 周, 减持, 净空单]</td>\n      <td>投机 基金 仍然 看空 大豆 市场 过去 周 减持 净空单</td>\n      <td>[投机, 基金, 仍然, 看空, 大豆, 市场, 过去, 周, 减持, 净空单]</td>\n      <td>2019-06-06</td>\n      <td>0.889136</td>\n    </tr>\n    <tr>\n      <th>2</th>\n      <td>香港查出非洲猪瘟病毒感染政府销毁上水屠宰场600头生猪</td>\n      <td>[香港, 查出, 非洲, 猪瘟, 病毒, 感染, 政府, 销毁, 上水, 屠宰场, 600,...</td>\n      <td>香港 非洲 猪瘟 病毒 感染 政府 销毁 上水 屠宰场 600 头 生猪</td>\n      <td>[香港, 非洲, 猪瘟, 病毒, 感染, 政府, 销毁, 上水, 屠宰场, 600, 头, 生猪]</td>\n      <td>2019-05-13</td>\n      <td>0.949319</td>\n    </tr>\n    <tr>\n      <th>3</th>\n      <td>投机基金在CBOT大豆期市的净空单创下15个月新高</td>\n      <td>[投机, 基金, 在, CBOT, 大豆, 期市, 的, 净空单, 创下, 15, 个, 月...</td>\n      <td>投机 基金 CBOT 大豆 期市 净空单 15 月 新高</td>\n      <td>[投机, 基金, CBOT, 大豆, 期市, 净空单, 15, 月, 新高]</td>\n      <td>2019-04-25</td>\n      <td>0.422487</td>\n    </tr>\n    <tr>\n      <th>4</th>\n      <td>西藏自治区林芝市发生非洲猪瘟疫情</td>\n      <td>[西藏, 自治区, 林芝市, 发生, 非洲, 猪瘟, 疫情]</td>\n      <td>西藏 自治区 林芝市 非洲 猪瘟 疫情</td>\n      <td>[西藏, 自治区, 林芝市, 非洲, 猪瘟, 疫情]</td>\n      <td>2019-04-08</td>\n      <td>0.892726</td>\n    </tr>\n    <tr>\n      <th>...</th>\n      <td>...</td>\n      <td>...</td>\n      <td>...</td>\n      <td>...</td>\n      <td>...</td>\n      <td>...</td>\n    </tr>\n    <tr>\n      <th>3286</th>\n      <td>美国大豆进口订货量过高，或造成供过于求</td>\n      <td>[美国, 大豆, 进口, 订货量, 过, 高, 或, 造成, 供过于求]</td>\n      <td>美国 大豆 进口 订货量 高 造成 供过于求</td>\n      <td>[美国, 大豆, 进口, 订货量, 高, 造成, 供过于求]</td>\n      <td>2010-01-06</td>\n      <td>0.765290</td>\n    </tr>\n    <tr>\n      <th>3287</th>\n      <td>政策预期助推农产品期货走强</td>\n      <td>[政策, 预期, 助推, 农产品, 期货, 走强]</td>\n      <td>政策 预期 助推 农产品 期货 走强</td>\n      <td>[政策, 预期, 助推, 农产品, 期货, 走强]</td>\n      <td>2010-01-05</td>\n      <td>0.896063</td>\n    </tr>\n    <tr>\n      <th>3288</th>\n      <td>78家大豆加工企业暂被取消补贴资格</td>\n      <td>[78, 家, 大豆, 加工, 企业, 暂, 被, 取消, 补贴, 资格]</td>\n      <td>78 家 大豆 加工 企业 暂 取消 补贴 资格</td>\n      <td>[78, 家, 大豆, 加工, 企业, 暂, 取消, 补贴, 资格]</td>\n      <td>2010-01-05</td>\n      <td>0.003893</td>\n    </tr>\n    <tr>\n      <th>3289</th>\n      <td>关于东北大豆市场补贴消息播报</td>\n      <td>[关于, 东北, 大豆, 市场, 补贴, 消息, 播报]</td>\n      <td>东北 大豆 市场 补贴 消息 播报</td>\n      <td>[东北, 大豆, 市场, 补贴, 消息, 播报]</td>\n      <td>2010-01-04</td>\n      <td>0.086830</td>\n    </tr>\n    <tr>\n      <th>3290</th>\n      <td>胡锦涛主席河北考察&amp;;将出台惠农新政</td>\n      <td>[胡锦涛, 主席, 河北, 考察, 将, 出台, 惠农, 新政]</td>\n      <td>胡锦涛 主席 河北 考察 出台 惠农 新政</td>\n      <td>[胡锦涛, 主席, 河北, 考察, 出台, 惠农, 新政]</td>\n      <td>2010-01-04</td>\n      <td>0.530890</td>\n    </tr>\n  </tbody>\n</table>\n<p>3291 rows × 6 columns</p>\n</div>"
     },
     "execution_count": 133,
     "metadata": {},
     "output_type": "execute_result"
    }
   ],
   "source": [
    "text"
   ],
   "metadata": {
    "collapsed": false,
    "pycharm": {
     "name": "#%%\n"
    }
   }
  },
  {
   "cell_type": "code",
   "execution_count": null,
   "outputs": [],
   "source": [],
   "metadata": {
    "collapsed": false,
    "pycharm": {
     "name": "#%%\n"
    }
   }
  }
 ],
 "metadata": {
  "kernelspec": {
   "display_name": "Python 3",
   "language": "python",
   "name": "python3"
  },
  "language_info": {
   "codemirror_mode": {
    "name": "ipython",
    "version": 3
   },
   "file_extension": ".py",
   "mimetype": "text/x-python",
   "name": "python",
   "nbconvert_exporter": "python",
   "pygments_lexer": "ipython3",
   "version": "3.8.8"
  }
 },
 "nbformat": 4,
 "nbformat_minor": 5
}